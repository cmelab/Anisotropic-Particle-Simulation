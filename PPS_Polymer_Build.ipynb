{
 "cells": [
  {
   "cell_type": "code",
   "execution_count": 8,
   "id": "75f43fb0",
   "metadata": {},
   "outputs": [],
   "source": [
    "import mbuild as mb\n",
    "from mbuild.lib.recipes import Polymer\n",
    "import gsd.hoomd\n",
    "import grits\n",
    "import numpy\n",
    "import math\n",
    "import rowan"
   ]
  },
  {
   "cell_type": "code",
   "execution_count": 3,
   "id": "4dcd7a0e",
   "metadata": {},
   "outputs": [],
   "source": [
    "pps_monomer = mb.load(\"c1ccc(S)cc1\", smiles=True)\n",
    "pps_polymer = Polymer()\n",
    "pps_polymer.add_monomer(pps_monomer, indices=[7, 10], separation=0.176)\n",
    "pps_polymer.build(n=10) # This builds a 10mer, n is the number of times to repeat a monomer"
   ]
  },
  {
   "cell_type": "code",
   "execution_count": 4,
   "id": "370bdde0",
   "metadata": {},
   "outputs": [
    {
     "name": "stderr",
     "output_type": "stream",
     "text": [
      "/home/danirojas/miniconda3/envs/grits/lib/python3.8/site-packages/gsd/hoomd.py:420: FutureWarning: Snapshot is deprecated, use Frame\n",
      "  warnings.warn(\"Snapshot is deprecated, use Frame\", FutureWarning)\n",
      "/home/danirojas/miniconda3/envs/grits/lib/python3.8/site-packages/gsd/hoomd.py:1125: FutureWarning: The 'wb' mode is deprecated, use 'w'\n",
      "  gsdfileobj = fl.open(name=str(name),\n"
     ]
    },
    {
     "name": "stdout",
     "output_type": "stream",
     "text": [
      "Added 0 hydrogens.\n"
     ]
    },
    {
     "name": "stderr",
     "output_type": "stream",
     "text": [
      "/home/danirojas/miniconda3/envs/grits/lib/python3.8/site-packages/gsd/hoomd.py:1125: FutureWarning: The 'wb' mode is deprecated, use 'w'\n",
      "  gsdfileobj = fl.open(name=str(name),\n",
      "/home/danirojas/miniconda3/envs/grits/lib/python3.8/site-packages/gsd/hoomd.py:1125: FutureWarning: The 'rb' mode is deprecated, use 'r'\n",
      "  gsdfileobj = fl.open(name=str(name),\n",
      "/home/danirojas/miniconda3/envs/grits/lib/python3.8/site-packages/gsd/hoomd.py:420: FutureWarning: Snapshot is deprecated, use Frame\n",
      "  warnings.warn(\"Snapshot is deprecated, use Frame\", FutureWarning)\n",
      "/home/danirojas/miniconda3/envs/grits/lib/python3.8/site-packages/gsd/hoomd.py:837: FutureWarning: elementwise comparison failed; returning scalar instead, but in the future will perform elementwise comparison\n",
      "  matches_default_value = data == container._default_value[name]\n"
     ]
    }
   ],
   "source": [
    "box = mb.fill_box(pps_polymer, n_compounds = 10, box = None, density = 200)\n",
    "gsdfile = \"PolyPPS_Box.gsd\"\n",
    "box.save(gsdfile,overwrite = True)\n",
    "system = grits.CG_System(gsdfile, beads={\"_A\": \"c1ccc(S)cc1\"}, add_hydrogens = True, aniso_beads = True)\n",
    "system._compounds[0].visualize(show_atomistic = True)\n",
    "system.save(\"PolyPPSBeads_Box.gsd\")"
   ]
  },
  {
   "cell_type": "code",
   "execution_count": null,
   "id": "48d96139",
   "metadata": {},
   "outputs": [],
   "source": []
  }
 ],
 "metadata": {
  "kernelspec": {
   "display_name": "Python 3 (ipykernel)",
   "language": "python",
   "name": "python3"
  },
  "language_info": {
   "codemirror_mode": {
    "name": "ipython",
    "version": 3
   },
   "file_extension": ".py",
   "mimetype": "text/x-python",
   "name": "python",
   "nbconvert_exporter": "python",
   "pygments_lexer": "ipython3",
   "version": "3.8.17"
  }
 },
 "nbformat": 4,
 "nbformat_minor": 5
}

{
 "cells": [
  {
   "cell_type": "markdown",
   "id": "31fa3f10",
   "metadata": {},
   "source": [
    "## Creation of the four PPS monomers"
   ]
  },
  {
   "cell_type": "code",
   "execution_count": 1,
   "id": "81247414",
   "metadata": {},
   "outputs": [],
   "source": [
    "import mbuild as mb\n",
    "import math\n",
    "import gsd.hoomd\n",
    "import numpy as np\n",
    "\n",
    "# Creates a mBuild compound of a single PPS monomer\n",
    "pps = mb.load(\"c1ccc(S)cc1\", smiles=True)"
   ]
  },
  {
   "cell_type": "code",
   "execution_count": 2,
   "id": "4fdad29d",
   "metadata": {},
   "outputs": [],
   "source": [
    "#Removes all of they hydogens from the simulation\n",
    "pps.remove(pps.particles_by_element('H'))"
   ]
  },
  {
   "cell_type": "code",
   "execution_count": 3,
   "id": "4ccc66c6",
   "metadata": {},
   "outputs": [],
   "source": [
    "system = mb.compound.Compound()"
   ]
  },
  {
   "cell_type": "code",
   "execution_count": 4,
   "id": "7362905a",
   "metadata": {},
   "outputs": [],
   "source": [
    "#Creats a box with four monomers inside of it\n",
    "for i in range(4):\n",
    "    clone = mb.clone(pps)\n",
    "    if i %2 == 0:\n",
    "        clone.rotate(theta = i*(math.pi/2), around = [0, 0, 1])\n",
    "    else:\n",
    "        clone.rotate(theta = i*(math.pi/2), around = [0, 1, 0])\n",
    "    clone.translate([(i + 1), 1, 1])\n",
    "    system.add(clone)\n",
    "system.box = mb.Box([6, 2, 2])"
   ]
  },
  {
   "cell_type": "code",
   "execution_count": 5,
   "id": "6e7040fb",
   "metadata": {},
   "outputs": [],
   "source": [
    "#Todo:\n",
    "#Make a function that takes a gsd file and calculates vectors of orientation for gay-berne major axis given the pps\n",
    "# positions"
   ]
  },
  {
   "cell_type": "code",
   "execution_count": 6,
   "id": "395dec64",
   "metadata": {},
   "outputs": [
    {
     "name": "stderr",
     "output_type": "stream",
     "text": [
      "/Users/cmelab/mbuild/mbuild/compound.py:400: UserWarning: Some particle of <C pos=([0.8307 1.0016 0.9793]), 2 bonds, id: 5398731984> does not have a charge.They will not be accounted for during this calculation.\n",
      "  warn(\n",
      "/Users/cmelab/mbuild/mbuild/compound.py:400: UserWarning: Some particle of <C pos=([0.8979 0.88   0.9952]), 2 bonds, id: 5398732128> does not have a charge.They will not be accounted for during this calculation.\n",
      "  warn(\n",
      "/Users/cmelab/mbuild/mbuild/compound.py:400: UserWarning: Some particle of <C pos=([1.0354 0.8788 1.021 ]), 2 bonds, id: 5398714688> does not have a charge.They will not be accounted for during this calculation.\n",
      "  warn(\n",
      "/Users/cmelab/mbuild/mbuild/compound.py:400: UserWarning: Some particle of <C pos=([1.1059 0.9994 1.0308]), 3 bonds, id: 5398713584> does not have a charge.They will not be accounted for during this calculation.\n",
      "  warn(\n",
      "/Users/cmelab/mbuild/mbuild/compound.py:400: UserWarning: Some particle of <S pos=([1.2818 0.998  1.0638]), 1 bonds, id: 5398713968> does not have a charge.They will not be accounted for during this calculation.\n",
      "  warn(\n",
      "/Users/cmelab/mbuild/mbuild/compound.py:400: UserWarning: Some particle of <C pos=([1.0385 1.1212 1.0149]), 2 bonds, id: 5398716368> does not have a charge.They will not be accounted for during this calculation.\n",
      "  warn(\n",
      "/Users/cmelab/mbuild/mbuild/compound.py:400: UserWarning: Some particle of <C pos=([0.901  1.1222 0.9891]), 2 bonds, id: 5398715696> does not have a charge.They will not be accounted for during this calculation.\n",
      "  warn(\n",
      "/Users/cmelab/mbuild/mbuild/compound.py:400: UserWarning: Some particle of <C pos=([1.9793 1.0016 1.1693]), 2 bonds, id: 5400407248> does not have a charge.They will not be accounted for during this calculation.\n",
      "  warn(\n",
      "/Users/cmelab/mbuild/mbuild/compound.py:400: UserWarning: Some particle of <C pos=([1.9952 0.88   1.1021]), 2 bonds, id: 5394848832> does not have a charge.They will not be accounted for during this calculation.\n",
      "  warn(\n",
      "/Users/cmelab/mbuild/mbuild/compound.py:400: UserWarning: Some particle of <C pos=([2.021  0.8788 0.9646]), 2 bonds, id: 5400432896> does not have a charge.They will not be accounted for during this calculation.\n",
      "  warn(\n",
      "/Users/cmelab/mbuild/mbuild/compound.py:400: UserWarning: Some particle of <C pos=([2.0308 0.9994 0.8941]), 3 bonds, id: 5400433184> does not have a charge.They will not be accounted for during this calculation.\n",
      "  warn(\n",
      "/Users/cmelab/mbuild/mbuild/compound.py:400: UserWarning: Some particle of <S pos=([2.0638 0.998  0.7182]), 1 bonds, id: 5400433328> does not have a charge.They will not be accounted for during this calculation.\n",
      "  warn(\n",
      "/Users/cmelab/mbuild/mbuild/compound.py:400: UserWarning: Some particle of <C pos=([2.0149 1.1212 0.9615]), 2 bonds, id: 5400433472> does not have a charge.They will not be accounted for during this calculation.\n",
      "  warn(\n",
      "/Users/cmelab/mbuild/mbuild/compound.py:400: UserWarning: Some particle of <C pos=([1.9891 1.1222 1.099 ]), 2 bonds, id: 5400433616> does not have a charge.They will not be accounted for during this calculation.\n",
      "  warn(\n",
      "/Users/cmelab/mbuild/mbuild/compound.py:400: UserWarning: Some particle of <C pos=([3.1693 0.9984 0.9793]), 2 bonds, id: 5400579376> does not have a charge.They will not be accounted for during this calculation.\n",
      "  warn(\n",
      "/Users/cmelab/mbuild/mbuild/compound.py:400: UserWarning: Some particle of <C pos=([3.1021 1.12   0.9952]), 2 bonds, id: 5400579568> does not have a charge.They will not be accounted for during this calculation.\n",
      "  warn(\n",
      "/Users/cmelab/mbuild/mbuild/compound.py:400: UserWarning: Some particle of <C pos=([2.9646 1.1212 1.021 ]), 2 bonds, id: 5400579712> does not have a charge.They will not be accounted for during this calculation.\n",
      "  warn(\n",
      "/Users/cmelab/mbuild/mbuild/compound.py:400: UserWarning: Some particle of <C pos=([2.8941 1.0006 1.0308]), 3 bonds, id: 5400579856> does not have a charge.They will not be accounted for during this calculation.\n",
      "  warn(\n",
      "/Users/cmelab/mbuild/mbuild/compound.py:400: UserWarning: Some particle of <S pos=([2.7182 1.002  1.0638]), 1 bonds, id: 5400580000> does not have a charge.They will not be accounted for during this calculation.\n",
      "  warn(\n",
      "/Users/cmelab/mbuild/mbuild/compound.py:400: UserWarning: Some particle of <C pos=([2.9615 0.8788 1.0149]), 2 bonds, id: 5400600688> does not have a charge.They will not be accounted for during this calculation.\n",
      "  warn(\n",
      "/Users/cmelab/mbuild/mbuild/compound.py:400: UserWarning: Some particle of <C pos=([3.099  0.8778 0.9891]), 2 bonds, id: 5400600832> does not have a charge.They will not be accounted for during this calculation.\n",
      "  warn(\n",
      "/Users/cmelab/mbuild/mbuild/compound.py:400: UserWarning: Some particle of <C pos=([4.0207 1.0016 0.8307]), 2 bonds, id: 5400779888> does not have a charge.They will not be accounted for during this calculation.\n",
      "  warn(\n",
      "/Users/cmelab/mbuild/mbuild/compound.py:400: UserWarning: Some particle of <C pos=([4.0048 0.88   0.8979]), 2 bonds, id: 5400780128> does not have a charge.They will not be accounted for during this calculation.\n",
      "  warn(\n",
      "/Users/cmelab/mbuild/mbuild/compound.py:400: UserWarning: Some particle of <C pos=([3.979  0.8788 1.0354]), 2 bonds, id: 5400780224> does not have a charge.They will not be accounted for during this calculation.\n",
      "  warn(\n",
      "/Users/cmelab/mbuild/mbuild/compound.py:400: UserWarning: Some particle of <C pos=([3.9692 0.9994 1.1059]), 3 bonds, id: 5400780368> does not have a charge.They will not be accounted for during this calculation.\n",
      "  warn(\n",
      "/Users/cmelab/mbuild/mbuild/compound.py:400: UserWarning: Some particle of <S pos=([3.9362 0.998  1.2818]), 1 bonds, id: 5400780512> does not have a charge.They will not be accounted for during this calculation.\n",
      "  warn(\n",
      "/Users/cmelab/mbuild/mbuild/compound.py:400: UserWarning: Some particle of <C pos=([3.9851 1.1212 1.0385]), 2 bonds, id: 5400780656> does not have a charge.They will not be accounted for during this calculation.\n",
      "  warn(\n",
      "/Users/cmelab/mbuild/mbuild/compound.py:400: UserWarning: Some particle of <C pos=([4.0109 1.1222 0.901 ]), 2 bonds, id: 5400805440> does not have a charge.They will not be accounted for during this calculation.\n",
      "  warn(\n",
      "/Users/cmelab/mbuild/mbuild/compound.py:400: UserWarning: Some particle of <C pos=([0.8307 1.0016 0.9793]), 2 bonds, id: 5401258976> does not have a charge.They will not be accounted for during this calculation.\n",
      "  warn(\n",
      "/Users/cmelab/mbuild/mbuild/compound.py:400: UserWarning: Some particle of <C pos=([0.8979 0.88   0.9952]), 2 bonds, id: 5401258832> does not have a charge.They will not be accounted for during this calculation.\n",
      "  warn(\n",
      "/Users/cmelab/mbuild/mbuild/compound.py:400: UserWarning: Some particle of <C pos=([1.0354 0.8788 1.021 ]), 2 bonds, id: 5401258688> does not have a charge.They will not be accounted for during this calculation.\n",
      "  warn(\n",
      "/Users/cmelab/mbuild/mbuild/compound.py:400: UserWarning: Some particle of <C pos=([1.1059 0.9994 1.0308]), 3 bonds, id: 5401258544> does not have a charge.They will not be accounted for during this calculation.\n",
      "  warn(\n",
      "/Users/cmelab/mbuild/mbuild/compound.py:400: UserWarning: Some particle of <S pos=([1.2818 0.998  1.0638]), 1 bonds, id: 5401258400> does not have a charge.They will not be accounted for during this calculation.\n",
      "  warn(\n",
      "/Users/cmelab/mbuild/mbuild/compound.py:400: UserWarning: Some particle of <C pos=([1.0385 1.1212 1.0149]), 2 bonds, id: 5401258256> does not have a charge.They will not be accounted for during this calculation.\n",
      "  warn(\n",
      "/Users/cmelab/mbuild/mbuild/compound.py:400: UserWarning: Some particle of <C pos=([0.901  1.1222 0.9891]), 2 bonds, id: 5401258160> does not have a charge.They will not be accounted for during this calculation.\n",
      "  warn(\n",
      "/Users/cmelab/mbuild/mbuild/compound.py:400: UserWarning: Some particle of <C pos=([1.9793 1.0016 1.1693]), 2 bonds, id: 5401549072> does not have a charge.They will not be accounted for during this calculation.\n",
      "  warn(\n",
      "/Users/cmelab/mbuild/mbuild/compound.py:400: UserWarning: Some particle of <C pos=([1.9952 0.88   1.1021]), 2 bonds, id: 5401549216> does not have a charge.They will not be accounted for during this calculation.\n",
      "  warn(\n",
      "/Users/cmelab/mbuild/mbuild/compound.py:400: UserWarning: Some particle of <C pos=([2.021  0.8788 0.9646]), 2 bonds, id: 5401549360> does not have a charge.They will not be accounted for during this calculation.\n",
      "  warn(\n",
      "/Users/cmelab/mbuild/mbuild/compound.py:400: UserWarning: Some particle of <C pos=([2.0308 0.9994 0.8941]), 3 bonds, id: 5401549504> does not have a charge.They will not be accounted for during this calculation.\n",
      "  warn(\n",
      "/Users/cmelab/mbuild/mbuild/compound.py:400: UserWarning: Some particle of <S pos=([2.0638 0.998  0.7182]), 1 bonds, id: 5401549648> does not have a charge.They will not be accounted for during this calculation.\n",
      "  warn(\n",
      "/Users/cmelab/mbuild/mbuild/compound.py:400: UserWarning: Some particle of <C pos=([2.0149 1.1212 0.9615]), 2 bonds, id: 5401549792> does not have a charge.They will not be accounted for during this calculation.\n",
      "  warn(\n",
      "/Users/cmelab/mbuild/mbuild/compound.py:400: UserWarning: Some particle of <C pos=([1.9891 1.1222 1.099 ]), 2 bonds, id: 5401549936> does not have a charge.They will not be accounted for during this calculation.\n",
      "  warn(\n",
      "/Users/cmelab/mbuild/mbuild/compound.py:400: UserWarning: Some particle of <C pos=([3.1693 0.9984 0.9793]), 2 bonds, id: 5401674080> does not have a charge.They will not be accounted for during this calculation.\n",
      "  warn(\n",
      "/Users/cmelab/mbuild/mbuild/compound.py:400: UserWarning: Some particle of <C pos=([3.1021 1.12   0.9952]), 2 bonds, id: 5401674224> does not have a charge.They will not be accounted for during this calculation.\n",
      "  warn(\n",
      "/Users/cmelab/mbuild/mbuild/compound.py:400: UserWarning: Some particle of <C pos=([2.9646 1.1212 1.021 ]), 2 bonds, id: 5401674368> does not have a charge.They will not be accounted for during this calculation.\n",
      "  warn(\n",
      "/Users/cmelab/mbuild/mbuild/compound.py:400: UserWarning: Some particle of <C pos=([2.8941 1.0006 1.0308]), 3 bonds, id: 5401674512> does not have a charge.They will not be accounted for during this calculation.\n",
      "  warn(\n",
      "/Users/cmelab/mbuild/mbuild/compound.py:400: UserWarning: Some particle of <S pos=([2.7182 1.002  1.0638]), 1 bonds, id: 5401674656> does not have a charge.They will not be accounted for during this calculation.\n",
      "  warn(\n",
      "/Users/cmelab/mbuild/mbuild/compound.py:400: UserWarning: Some particle of <C pos=([2.9615 0.8788 1.0149]), 2 bonds, id: 5401674800> does not have a charge.They will not be accounted for during this calculation.\n",
      "  warn(\n",
      "/Users/cmelab/mbuild/mbuild/compound.py:400: UserWarning: Some particle of <C pos=([3.099  0.8778 0.9891]), 2 bonds, id: 5401674944> does not have a charge.They will not be accounted for during this calculation.\n",
      "  warn(\n",
      "/Users/cmelab/mbuild/mbuild/compound.py:400: UserWarning: Some particle of <C pos=([4.0207 1.0016 0.8307]), 2 bonds, id: 5401812416> does not have a charge.They will not be accounted for during this calculation.\n",
      "  warn(\n",
      "/Users/cmelab/mbuild/mbuild/compound.py:400: UserWarning: Some particle of <C pos=([4.0048 0.88   0.8979]), 2 bonds, id: 5401812560> does not have a charge.They will not be accounted for during this calculation.\n",
      "  warn(\n",
      "/Users/cmelab/mbuild/mbuild/compound.py:400: UserWarning: Some particle of <C pos=([3.979  0.8788 1.0354]), 2 bonds, id: 5401812704> does not have a charge.They will not be accounted for during this calculation.\n",
      "  warn(\n",
      "/Users/cmelab/mbuild/mbuild/compound.py:400: UserWarning: Some particle of <C pos=([3.9692 0.9994 1.1059]), 3 bonds, id: 5401812848> does not have a charge.They will not be accounted for during this calculation.\n",
      "  warn(\n",
      "/Users/cmelab/mbuild/mbuild/compound.py:400: UserWarning: Some particle of <S pos=([3.9362 0.998  1.2818]), 1 bonds, id: 5401833536> does not have a charge.They will not be accounted for during this calculation.\n",
      "  warn(\n",
      "/Users/cmelab/mbuild/mbuild/compound.py:400: UserWarning: Some particle of <C pos=([3.9851 1.1212 1.0385]), 2 bonds, id: 5401833680> does not have a charge.They will not be accounted for during this calculation.\n",
      "  warn(\n",
      "/Users/cmelab/mbuild/mbuild/compound.py:400: UserWarning: Some particle of <C pos=([4.0109 1.1222 0.901 ]), 2 bonds, id: 5401833824> does not have a charge.They will not be accounted for during this calculation.\n",
      "  warn(\n"
     ]
    },
    {
     "data": {
      "application/3dmoljs_load.v0": "<div id=\"3dmolviewer_1687375108694149\"  style=\"position: relative; width: 640px; height: 480px\">\n        <p id=\"3dmolwarning_1687375108694149\" style=\"background-color:#ffcccc;color:black\">You appear to be running in JupyterLab (or JavaScript failed to load for some other reason).  You need to install the 3dmol extension: <br>\n        <tt>jupyter labextension install jupyterlab_3dmol</tt></p>\n        </div>\n<script>\n\nvar loadScriptAsync = function(uri){\n  return new Promise((resolve, reject) => {\n    //this is to ignore the existence of requirejs amd\n    var savedexports, savedmodule;\n    if (typeof exports !== 'undefined') savedexports = exports;\n    else exports = {}\n    if (typeof module !== 'undefined') savedmodule = module;\n    else module = {}\n\n    var tag = document.createElement('script');\n    tag.src = uri;\n    tag.async = true;\n    tag.onload = () => {\n        exports = savedexports;\n        module = savedmodule;\n        resolve();\n    };\n  var firstScriptTag = document.getElementsByTagName('script')[0];\n  firstScriptTag.parentNode.insertBefore(tag, firstScriptTag);\n});\n};\n\nif(typeof $3Dmolpromise === 'undefined') {\n$3Dmolpromise = null;\n  $3Dmolpromise = loadScriptAsync('https://cdn.jsdelivr.net/npm/3dmol@latest/build/3Dmol-min.min.js');\n}\n\nvar viewer_1687375108694149 = null;\nvar warn = document.getElementById(\"3dmolwarning_1687375108694149\");\nif(warn) {\n    warn.parentNode.removeChild(warn);\n}\n$3Dmolpromise.then(function() {\nviewer_1687375108694149 = $3Dmol.createViewer(document.getElementById(\"3dmolviewer_1687375108694149\"),{backgroundColor:\"white\"});\nviewer_1687375108694149.zoomTo();\n\tviewer_1687375108694149.addModel(\"@<TRIPOS>MOLECULE\\nCompound\\n28 28 4 0 1\\nBIOPOLYMER\\nNO_CHARGES\\n@<TRIPOS>CRYSIN\\n   60.0000    20.0000    20.0000    90.0000    90.0000    90.0000 1 1\\n@<TRIPOS>ATOM\\n       1 C            8.3072    10.0162     9.7926 C             1 Compound\\n       2 C            8.9790     8.8000     9.9523 C             1 Compound\\n       3 C           10.3539     8.7882    10.2102 C             1 Compound\\n       4 C           11.0587     9.9944    10.3084 C             1 Compound\\n       5 S           12.8178     9.9804    10.6384 S             1 Compound\\n       6 C           10.3846    11.2116    10.1486 C             1 Compound\\n       7 C            9.0098    11.2216     9.8908 C             1 Compound\\n       8 C           19.7926    10.0162    11.6928 C             2 Compound\\n       9 C           19.9523     8.8000    11.0210 C             2 Compound\\n      10 C           20.2102     8.7882     9.6461 C             2 Compound\\n      11 C           20.3084     9.9944     8.9413 C             2 Compound\\n      12 S           20.6384     9.9804     7.1822 S             2 Compound\\n      13 C           20.1486    11.2116     9.6154 C             2 Compound\\n      14 C           19.8908    11.2216    10.9902 C             2 Compound\\n      15 C           31.6928     9.9838     9.7926 C             3 Compound\\n      16 C           31.0210    11.2000     9.9523 C             3 Compound\\n      17 C           29.6461    11.2118    10.2102 C             3 Compound\\n      18 C           28.9413    10.0056    10.3084 C             3 Compound\\n      19 S           27.1822    10.0196    10.6384 S             3 Compound\\n      20 C           29.6154     8.7884    10.1486 C             3 Compound\\n      21 C           30.9902     8.7784     9.8908 C             3 Compound\\n      22 C           40.2074    10.0162     8.3072 C             4 Compound\\n      23 C           40.0477     8.8000     8.9790 C             4 Compound\\n      24 C           39.7898     8.7882    10.3539 C             4 Compound\\n      25 C           39.6916     9.9944    11.0587 C             4 Compound\\n      26 S           39.3616     9.9804    12.8178 S             4 Compound\\n      27 C           39.8514    11.2116    10.3846 C             4 Compound\\n      28 C           40.1092    11.2216     9.0098 C             4 Compound\\n@<TRIPOS>BOND\\n       1        2        1 1\\n       2        7        1 1\\n       3        3        2 1\\n       4        4        3 1\\n       5        5        4 1\\n       6        6        4 1\\n       7        7        6 1\\n       8        9        8 1\\n       9       14        8 1\\n      10       10        9 1\\n      11       11       10 1\\n      12       12       11 1\\n      13       13       11 1\\n      14       14       13 1\\n      15       16       15 1\\n      16       21       15 1\\n      17       17       16 1\\n      18       18       17 1\\n      19       19       18 1\\n      20       20       18 1\\n      21       21       20 1\\n      22       23       22 1\\n      23       28       22 1\\n      24       24       23 1\\n      25       25       24 1\\n      26       26       25 1\\n      27       27       25 1\\n      28       28       27 1\\n@<TRIPOS>SUBSTRUCTURE\\n       1 Compound        1 RESIDUE    0 **** ROOT      0\\n       2 Compound        8 RESIDUE    0 **** ROOT      0\\n       3 Compound       15 RESIDUE    0 **** ROOT      0\\n       4 Compound       22 RESIDUE    0 **** ROOT      0\\n\",\"mol2\");\n\tviewer_1687375108694149.setStyle({\"stick\": {\"radius\": 0.2, \"color\": \"grey\"}, \"sphere\": {\"scale\": 0.3, \"colorscheme\": {}}});\n\tviewer_1687375108694149.zoomTo();\nviewer_1687375108694149.render();\n});\n</script>",
      "text/html": [
       "<div id=\"3dmolviewer_1687375108694149\"  style=\"position: relative; width: 640px; height: 480px\">\n",
       "        <p id=\"3dmolwarning_1687375108694149\" style=\"background-color:#ffcccc;color:black\">You appear to be running in JupyterLab (or JavaScript failed to load for some other reason).  You need to install the 3dmol extension: <br>\n",
       "        <tt>jupyter labextension install jupyterlab_3dmol</tt></p>\n",
       "        </div>\n",
       "<script>\n",
       "\n",
       "var loadScriptAsync = function(uri){\n",
       "  return new Promise((resolve, reject) => {\n",
       "    //this is to ignore the existence of requirejs amd\n",
       "    var savedexports, savedmodule;\n",
       "    if (typeof exports !== 'undefined') savedexports = exports;\n",
       "    else exports = {}\n",
       "    if (typeof module !== 'undefined') savedmodule = module;\n",
       "    else module = {}\n",
       "\n",
       "    var tag = document.createElement('script');\n",
       "    tag.src = uri;\n",
       "    tag.async = true;\n",
       "    tag.onload = () => {\n",
       "        exports = savedexports;\n",
       "        module = savedmodule;\n",
       "        resolve();\n",
       "    };\n",
       "  var firstScriptTag = document.getElementsByTagName('script')[0];\n",
       "  firstScriptTag.parentNode.insertBefore(tag, firstScriptTag);\n",
       "});\n",
       "};\n",
       "\n",
       "if(typeof $3Dmolpromise === 'undefined') {\n",
       "$3Dmolpromise = null;\n",
       "  $3Dmolpromise = loadScriptAsync('https://cdn.jsdelivr.net/npm/3dmol@latest/build/3Dmol-min.min.js');\n",
       "}\n",
       "\n",
       "var viewer_1687375108694149 = null;\n",
       "var warn = document.getElementById(\"3dmolwarning_1687375108694149\");\n",
       "if(warn) {\n",
       "    warn.parentNode.removeChild(warn);\n",
       "}\n",
       "$3Dmolpromise.then(function() {\n",
       "viewer_1687375108694149 = $3Dmol.createViewer(document.getElementById(\"3dmolviewer_1687375108694149\"),{backgroundColor:\"white\"});\n",
       "viewer_1687375108694149.zoomTo();\n",
       "\tviewer_1687375108694149.addModel(\"@<TRIPOS>MOLECULE\\nCompound\\n28 28 4 0 1\\nBIOPOLYMER\\nNO_CHARGES\\n@<TRIPOS>CRYSIN\\n   60.0000    20.0000    20.0000    90.0000    90.0000    90.0000 1 1\\n@<TRIPOS>ATOM\\n       1 C            8.3072    10.0162     9.7926 C             1 Compound\\n       2 C            8.9790     8.8000     9.9523 C             1 Compound\\n       3 C           10.3539     8.7882    10.2102 C             1 Compound\\n       4 C           11.0587     9.9944    10.3084 C             1 Compound\\n       5 S           12.8178     9.9804    10.6384 S             1 Compound\\n       6 C           10.3846    11.2116    10.1486 C             1 Compound\\n       7 C            9.0098    11.2216     9.8908 C             1 Compound\\n       8 C           19.7926    10.0162    11.6928 C             2 Compound\\n       9 C           19.9523     8.8000    11.0210 C             2 Compound\\n      10 C           20.2102     8.7882     9.6461 C             2 Compound\\n      11 C           20.3084     9.9944     8.9413 C             2 Compound\\n      12 S           20.6384     9.9804     7.1822 S             2 Compound\\n      13 C           20.1486    11.2116     9.6154 C             2 Compound\\n      14 C           19.8908    11.2216    10.9902 C             2 Compound\\n      15 C           31.6928     9.9838     9.7926 C             3 Compound\\n      16 C           31.0210    11.2000     9.9523 C             3 Compound\\n      17 C           29.6461    11.2118    10.2102 C             3 Compound\\n      18 C           28.9413    10.0056    10.3084 C             3 Compound\\n      19 S           27.1822    10.0196    10.6384 S             3 Compound\\n      20 C           29.6154     8.7884    10.1486 C             3 Compound\\n      21 C           30.9902     8.7784     9.8908 C             3 Compound\\n      22 C           40.2074    10.0162     8.3072 C             4 Compound\\n      23 C           40.0477     8.8000     8.9790 C             4 Compound\\n      24 C           39.7898     8.7882    10.3539 C             4 Compound\\n      25 C           39.6916     9.9944    11.0587 C             4 Compound\\n      26 S           39.3616     9.9804    12.8178 S             4 Compound\\n      27 C           39.8514    11.2116    10.3846 C             4 Compound\\n      28 C           40.1092    11.2216     9.0098 C             4 Compound\\n@<TRIPOS>BOND\\n       1        2        1 1\\n       2        7        1 1\\n       3        3        2 1\\n       4        4        3 1\\n       5        5        4 1\\n       6        6        4 1\\n       7        7        6 1\\n       8        9        8 1\\n       9       14        8 1\\n      10       10        9 1\\n      11       11       10 1\\n      12       12       11 1\\n      13       13       11 1\\n      14       14       13 1\\n      15       16       15 1\\n      16       21       15 1\\n      17       17       16 1\\n      18       18       17 1\\n      19       19       18 1\\n      20       20       18 1\\n      21       21       20 1\\n      22       23       22 1\\n      23       28       22 1\\n      24       24       23 1\\n      25       25       24 1\\n      26       26       25 1\\n      27       27       25 1\\n      28       28       27 1\\n@<TRIPOS>SUBSTRUCTURE\\n       1 Compound        1 RESIDUE    0 **** ROOT      0\\n       2 Compound        8 RESIDUE    0 **** ROOT      0\\n       3 Compound       15 RESIDUE    0 **** ROOT      0\\n       4 Compound       22 RESIDUE    0 **** ROOT      0\\n\",\"mol2\");\n",
       "\tviewer_1687375108694149.setStyle({\"stick\": {\"radius\": 0.2, \"color\": \"grey\"}, \"sphere\": {\"scale\": 0.3, \"colorscheme\": {}}});\n",
       "\tviewer_1687375108694149.zoomTo();\n",
       "viewer_1687375108694149.render();\n",
       "});\n",
       "</script>"
      ]
     },
     "metadata": {},
     "output_type": "display_data"
    },
    {
     "data": {
      "text/plain": [
       "<py3Dmol.view at 0x141fc2640>"
      ]
     },
     "execution_count": 6,
     "metadata": {},
     "output_type": "execute_result"
    }
   ],
   "source": [
    "#The system of four monomers of PPS\n",
    "system.save(\"pps_box.gsd\", overwrite=True)\n",
    "system.visualize()"
   ]
  },
  {
   "cell_type": "code",
   "execution_count": 9,
   "id": "31b8d117",
   "metadata": {},
   "outputs": [],
   "source": [
    "file = gsd.hoomd.open(\"pps_box.gsd\", \"rb\")"
   ]
  },
  {
   "cell_type": "code",
   "execution_count": 10,
   "id": "7c13cea1",
   "metadata": {},
   "outputs": [],
   "source": [
    "frame = file[0]"
   ]
  },
  {
   "cell_type": "code",
   "execution_count": 11,
   "id": "520f14b9",
   "metadata": {},
   "outputs": [
    {
     "data": {
      "text/plain": [
       "array([[-2.1692837e+01,  1.6220557e-02, -2.0739976e-01],\n",
       "       [-2.1020956e+01, -1.2000172e+00, -4.7733255e-02],\n",
       "       [-1.9646132e+01, -1.2118286e+00,  2.1015719e-01],\n",
       "       [-1.8941286e+01, -5.6079682e-03,  3.0836880e-01],\n",
       "       [-1.7182194e+01, -1.9554812e-02,  6.3843250e-01],\n",
       "       [-1.9615372e+01,  1.2115655e+00,  1.4862752e-01],\n",
       "       [-2.0990221e+01,  1.2215596e+00, -1.0921624e-01],\n",
       "       [-1.0207399e+01,  1.6220557e-02,  1.6928360e+00],\n",
       "       [-1.0047733e+01, -1.2000172e+00,  1.0209563e+00],\n",
       "       [-9.7898426e+00, -1.2118286e+00, -3.5386935e-01],\n",
       "       [-9.6916313e+00, -5.6079682e-03, -1.0587134e+00],\n",
       "       [-9.3615675e+00, -1.9554812e-02, -2.8178067e+00],\n",
       "       [-9.8513727e+00,  1.2115655e+00, -3.8462818e-01],\n",
       "       [-1.0109217e+01,  1.2215596e+00,  9.9022084e-01],\n",
       "       [ 1.6928360e+00, -1.6220557e-02, -2.0739976e-01],\n",
       "       [ 1.0209563e+00,  1.2000172e+00, -4.7733255e-02],\n",
       "       [-3.5386935e-01,  1.2118286e+00,  2.1015719e-01],\n",
       "       [-1.0587134e+00,  5.6079682e-03,  3.0836880e-01],\n",
       "       [-2.8178067e+00,  1.9554812e-02,  6.3843250e-01],\n",
       "       [-3.8462818e-01, -1.2115655e+00,  1.4862752e-01],\n",
       "       [ 9.9022084e-01, -1.2215596e+00, -1.0921624e-01],\n",
       "       [ 1.0207399e+01,  1.6220557e-02, -1.6928360e+00],\n",
       "       [ 1.0047733e+01, -1.2000172e+00, -1.0209563e+00],\n",
       "       [ 9.7898426e+00, -1.2118286e+00,  3.5386935e-01],\n",
       "       [ 9.6916313e+00, -5.6079682e-03,  1.0587134e+00],\n",
       "       [ 9.3615675e+00, -1.9554812e-02,  2.8178067e+00],\n",
       "       [ 9.8513727e+00,  1.2115655e+00,  3.8462818e-01],\n",
       "       [ 1.0109217e+01,  1.2215596e+00, -9.9022084e-01]], dtype=float32)"
      ]
     },
     "execution_count": 11,
     "metadata": {},
     "output_type": "execute_result"
    }
   ],
   "source": [
    "frame.particles.position"
   ]
  },
  {
   "cell_type": "markdown",
   "id": "0e005fa0",
   "metadata": {},
   "source": [
    "## Getting the positions of the particles in one monomer"
   ]
  },
  {
   "cell_type": "code",
   "execution_count": 12,
   "id": "0035d639",
   "metadata": {},
   "outputs": [
    {
     "name": "stderr",
     "output_type": "stream",
     "text": [
      "/Users/cmelab/mbuild/mbuild/compound.py:400: UserWarning: Some particle of <C pos=([-0.1693  0.0016 -0.0207]), 2 bonds, id: 4432368256> does not have a charge.They will not be accounted for during this calculation.\n",
      "  warn(\n",
      "/Users/cmelab/mbuild/mbuild/compound.py:400: UserWarning: Some particle of <C pos=([-0.1021 -0.12   -0.0048]), 2 bonds, id: 5394642112> does not have a charge.They will not be accounted for during this calculation.\n",
      "  warn(\n",
      "/Users/cmelab/mbuild/mbuild/compound.py:400: UserWarning: Some particle of <C pos=([ 0.0354 -0.1212  0.021 ]), 2 bonds, id: 4432368784> does not have a charge.They will not be accounted for during this calculation.\n",
      "  warn(\n",
      "/Users/cmelab/mbuild/mbuild/compound.py:400: UserWarning: Some particle of <C pos=([ 0.1059 -0.0006  0.0308]), 3 bonds, id: 5394635696> does not have a charge.They will not be accounted for during this calculation.\n",
      "  warn(\n",
      "/Users/cmelab/mbuild/mbuild/compound.py:400: UserWarning: Some particle of <S pos=([ 0.2818 -0.002   0.0638]), 1 bonds, id: 5392136032> does not have a charge.They will not be accounted for during this calculation.\n",
      "  warn(\n",
      "/Users/cmelab/mbuild/mbuild/compound.py:400: UserWarning: Some particle of <C pos=([0.0385 0.1212 0.0149]), 2 bonds, id: 5392136272> does not have a charge.They will not be accounted for during this calculation.\n",
      "  warn(\n",
      "/Users/cmelab/mbuild/mbuild/compound.py:400: UserWarning: Some particle of <C pos=([-0.099   0.1222 -0.0109]), 2 bonds, id: 5392136080> does not have a charge.They will not be accounted for during this calculation.\n",
      "  warn(\n"
     ]
    }
   ],
   "source": [
    "pps.save(\"one_pps.gsd\", overwrite=True)"
   ]
  },
  {
   "cell_type": "code",
   "execution_count": 14,
   "id": "71ea4be3",
   "metadata": {},
   "outputs": [],
   "source": [
    "file = gsd.hoomd.open(\"one_pps.gsd\", \"rb\")\n",
    "#Finds the real positions of the atoms in the monomer.\n",
    "frame = file[0]\n",
    "#partpos = particle position\n",
    "partpos = frame.particles.position\n",
    "#partmass = particle mass\n",
    "partmass = frame.particles.mass"
   ]
  },
  {
   "cell_type": "code",
   "execution_count": 15,
   "id": "0cd3c033",
   "metadata": {},
   "outputs": [
    {
     "name": "stdout",
     "output_type": "stream",
     "text": [
      "[[-1.692836    0.01622056 -0.20739976]\n",
      " [-1.0209563  -1.2000172  -0.04773325]\n",
      " [ 0.35386935 -1.2118286   0.21015719]\n",
      " [ 1.0587134  -0.00560797  0.3083688 ]\n",
      " [ 2.8178067  -0.01955481  0.6384325 ]\n",
      " [ 0.38462818  1.2115655   0.14862752]\n",
      " [-0.99022084  1.2215596  -0.10921624]]\n",
      "[12.011 12.011 12.011 12.011 32.06  12.011 12.011]\n"
     ]
    }
   ],
   "source": [
    "print(partpos)\n",
    "len(partpos)\n",
    "print(partmass)"
   ]
  },
  {
   "cell_type": "code",
   "execution_count": 16,
   "id": "def1e165",
   "metadata": {},
   "outputs": [],
   "source": [
    "#Find the Greatest Distance between all the pairs of positions, then convert that difference between the positions\n",
    "# as the vector function"
   ]
  },
  {
   "cell_type": "code",
   "execution_count": 27,
   "id": "cc9f4b3f",
   "metadata": {},
   "outputs": [],
   "source": [
    "def find_major_axis(positions_arr):\n",
    "    '''Finds the major axis for GB CG representation for use in axis-angle\n",
    "    orientation representation.\n",
    "    args:\n",
    "        positions_arr: N_particlesx3 numpy array of particle positions to map to one aniso bead.\n",
    "    returns:\n",
    "        major_axis: numpy array designating vector of major axis of Gay-Berne particle\n",
    "        particle_indicies: tuple of two particle indices used to calculate major axis vector\n",
    "    '''\n",
    "    major_axis = None\n",
    "    max_dist = 0\n",
    "    AB_indicies = (None, None)\n",
    "    for i, x0 in enumerate(positions_arr):\n",
    "        for j, x1 in enumerate(positions_arr[i+1:]):\n",
    "            vect = x1 - x0\n",
    "            dist = np.linalg.norm(vect)\n",
    "            if dist > max_dist:\n",
    "                max_dist = dist\n",
    "                major_axis = vect\n",
    "                # adjust j for loop stride\n",
    "                AB_indicies = (i, j+i+1)\n",
    "    return major_axis, AB_indicies"
   ]
  },
  {
   "cell_type": "code",
   "execution_count": 28,
   "id": "f3d5e952",
   "metadata": {},
   "outputs": [
    {
     "name": "stdout",
     "output_type": "stream",
     "text": [
      "[ 4.510643   -0.03577537  0.8458322 ]\n"
     ]
    }
   ],
   "source": [
    "lperp, indicies = find_major_axis(partpos)\n",
    "print(lperp)"
   ]
  },
  {
   "cell_type": "code",
   "execution_count": 17,
   "id": "25e544fe",
   "metadata": {},
   "outputs": [
    {
     "name": "stdout",
     "output_type": "stream",
     "text": [
      "The maximum distance of your monomer is 4.589402\n",
      "The vector that belongs to the maximum distance is [-4.510643    0.03577537 -0.8458322 ]\n"
     ]
    }
   ],
   "source": [
    "maxvect = None\n",
    "maxdist = 0\n",
    "for i, vect0 in enumerate(partpos):\n",
    "    for vect1 in partpos[i+1:]:\n",
    "        vect = vect0 - vect1\n",
    "        dist = np.linalg.norm(vect)\n",
    "        if dist > maxdist:\n",
    "            maxdist = dist\n",
    "            maxvect = vect\n",
    "print(\"The maximum distance of your monomer is\", maxdist)\n",
    "print(\"The vector that belongs to the maximum distance is\", maxvect)"
   ]
  },
  {
   "cell_type": "code",
   "execution_count": 18,
   "id": "81412da4",
   "metadata": {},
   "outputs": [
    {
     "name": "stdout",
     "output_type": "stream",
     "text": [
      "[ 0.6476411  -0.00234209  0.2314996 ]\n"
     ]
    }
   ],
   "source": [
    "#Finds the center of mass of the monomer\n",
    "M = np.sum(partmass)\n",
    "posCoMnumerator = partpos * np.reshape(partmass, [np.shape(partpos)[0], 1])\n",
    "CoMcords = (np.sum(posCoMnumerator, axis = 0)) / M\n",
    "print(CoMcords)"
   ]
  },
  {
   "cell_type": "code",
   "execution_count": 19,
   "id": "27953c7f",
   "metadata": {},
   "outputs": [],
   "source": [
    "#Convert the vector along the major axis at the center of mass and convert that to quaternions\n"
   ]
  },
  {
   "cell_type": "code",
   "execution_count": 20,
   "id": "eec02418",
   "metadata": {},
   "outputs": [],
   "source": [
    "#Come back later and put this in a for loop for all of the frames"
   ]
  },
  {
   "cell_type": "code",
   "execution_count": 21,
   "id": "9e3cff41",
   "metadata": {},
   "outputs": [],
   "source": [
    "#distanceList = []\n",
    "#vectorList = []\n",
    "#vectorcompDist = []\n",
    "#for i in range(len(partpos)):\n",
    "#    x0 = partpos[i][0]\n",
    "#    y0 = partpos[i][1]\n",
    "#    z0 = partpos[i][2]\n",
    "    #print(x0, y0, z0) \n",
    "#    for j in range(len(partpos)):\n",
    "#        xd = x0 - partpos[j][0]\n",
    "#        yd = y0 - partpos[j][1]\n",
    "#        zd = z0 - partpos[j][2]\n",
    "#        vectorList.append([xd, yd, zd])\n",
    "#        dist = np.sqrt((xd**2)+(yd**2)+(zd**2))\n",
    "#        distanceList.append(dist)\n",
    "#        vectorcompDist.append([partpos[i], partpos[j], dist])\n",
    "#maxdist = max(distanceList)\n",
    "#print(\"The maximum distance of your monomer is\", maxdist)\n",
    "#maxvect = max(vectorList)\n",
    "#print(\"The vector that belongs to the maximum distance is\", maxvect)\n",
    "#normvect = maxvect / np.linalg.norm(maxvect)\n",
    "#print(\"The unit vector along the major axis is :\", normvect)\n",
    "\n",
    "#whichelementVmax = vectorList.index(maxvect)\n",
    "#whichelementDmax = distanceList.index(maxdist)\n",
    "\n",
    "#for k in range(len(vectorcompDist)):\n",
    "#    if vectorcompDist[k][2] == maxdist:\n",
    "#        print(\"Our component vectors and distance are as follows:\", vectorcompDist[k])"
   ]
  },
  {
   "cell_type": "code",
   "execution_count": 22,
   "id": "74475e36",
   "metadata": {},
   "outputs": [],
   "source": [
    "#Finds the center of mass of the monomer\n",
    "#xi_mi_positions = []\n",
    "#yi_mi_positions = []\n",
    "#zi_mi_positions = []\n",
    "#for i in range(len(partpos)):\n",
    "#    xi_mi = partpos[i][0] * partmass[i]\n",
    "#    yi_mi = partpos[i][1] * partmass[i]\n",
    "#    zi_mi = partpos[i][2] * partmass[i]\n",
    "#    xi_mi_positions.append(xi_mi)\n",
    "#    yi_mi_positions.append(yi_mi)\n",
    "#    zi_mi_positions.append(zi_mi)\n",
    "#M = np.sum(partmass)\n",
    "#x_CoM = (np.sum(xi_mi_positions)) / M\n",
    "#y_CoM = (np.sum(yi_mi_positions)) / M\n",
    "#z_CoM = (np.sum(zi_mi_positions)) / M\n",
    "#CoMcords = np.array([x_CoM, y_CoM, z_CoM])\n",
    "#print(\"The center of Mass of your monomer is\",CoMcords)"
   ]
  },
  {
   "cell_type": "code",
   "execution_count": null,
   "id": "bd495d1b",
   "metadata": {},
   "outputs": [],
   "source": []
  }
 ],
 "metadata": {
  "kernelspec": {
   "display_name": "Python [conda env:mbuild-dev]",
   "language": "python",
   "name": "conda-env-mbuild-dev-py"
  },
  "language_info": {
   "codemirror_mode": {
    "name": "ipython",
    "version": 3
   },
   "file_extension": ".py",
   "mimetype": "text/x-python",
   "name": "python",
   "nbconvert_exporter": "python",
   "pygments_lexer": "ipython3",
   "version": "3.9.16"
  }
 },
 "nbformat": 4,
 "nbformat_minor": 5
}

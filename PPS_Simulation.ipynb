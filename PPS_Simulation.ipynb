{
 "cells": [
  {
   "cell_type": "markdown",
   "id": "31fa3f10",
   "metadata": {},
   "source": [
    "## Creation of the four PPS monomers"
   ]
  },
  {
   "cell_type": "code",
   "execution_count": 1,
   "id": "81247414",
   "metadata": {},
   "outputs": [],
   "source": [
    "import mbuild as mb\n",
    "import math\n",
    "import gsd.hoomd\n",
    "import numpy as np\n",
    "import matplotlib.pyplot as plt\n",
    "import rowan\n",
    "\n",
    "# Creates a mBuild compound of a single PPS monomer\n",
    "pps = mb.load(\"c1ccc(S)cc1\", smiles=True)"
   ]
  },
  {
   "cell_type": "code",
   "execution_count": 2,
   "id": "4ccc66c6",
   "metadata": {},
   "outputs": [],
   "source": [
    "system = mb.compound.Compound()"
   ]
  },
  {
   "cell_type": "code",
   "execution_count": 3,
   "id": "7362905a",
   "metadata": {},
   "outputs": [],
   "source": [
    "#Creats a box with four monomers inside of it\n",
    "for i in range(4):\n",
    "    clone = mb.clone(pps)\n",
    "    if i %2 == 0:\n",
    "        clone.rotate(theta = i*(math.pi/2), around = [0, 0, 1])\n",
    "    else:\n",
    "        clone.rotate(theta = i*(math.pi/2), around = [0, 1, 0])\n",
    "    clone.translate([(i + 1), 1, 1])\n",
    "    system.add(clone)\n",
    "system.box = mb.Box([6, 2, 2])"
   ]
  },
  {
   "cell_type": "code",
   "execution_count": 4,
   "id": "395dec64",
   "metadata": {},
   "outputs": [],
   "source": [
    "system.save(\"pps_box.gsd\", overwrite=True)"
   ]
  },
  {
   "cell_type": "code",
   "execution_count": 5,
   "id": "31b8d117",
   "metadata": {},
   "outputs": [],
   "source": [
    "file = gsd.hoomd.open(\"pps_box.gsd\", \"r\")"
   ]
  },
  {
   "cell_type": "code",
   "execution_count": 6,
   "id": "7c13cea1",
   "metadata": {},
   "outputs": [],
   "source": [
    "frame = file[0]"
   ]
  },
  {
   "cell_type": "markdown",
   "id": "0e005fa0",
   "metadata": {},
   "source": [
    "## Getting the positions of the particles in one monomer"
   ]
  },
  {
   "cell_type": "code",
   "execution_count": 7,
   "id": "0035d639",
   "metadata": {},
   "outputs": [],
   "source": [
    "pps.save(\"one_pps.gsd\", overwrite=True)"
   ]
  },
  {
   "cell_type": "code",
   "execution_count": 8,
   "id": "71ea4be3",
   "metadata": {},
   "outputs": [],
   "source": [
    "def get_heavy_atoms(particles):\n",
    "    \"\"\"Returning arrays of only heavy atoms (non-Hydrogen) given a gsd.frame.particles object\"\"\"\n",
    "    #partpos = particle position\n",
    "    partpos = particles.position\n",
    "    #partmass = particle mass\n",
    "    partmass = particles.mass\n",
    "    #elements\n",
    "    partelem = particles.typeid\n",
    "    heavy_atom_indicies = np.where(partelem != 1)[0]\n",
    "    heavy_partpos = partpos[heavy_atom_indicies]\n",
    "    heavy_partmass = partmass[heavy_atom_indicies]\n",
    "    return heavy_partpos, heavy_partmass"
   ]
  },
  {
   "cell_type": "code",
   "execution_count": 9,
   "id": "e6101617",
   "metadata": {},
   "outputs": [],
   "source": [
    "with gsd.hoomd.open('one_pps.gsd') as f:\n",
    "    frame = f[0]\n",
    "    particles = frame.particles\n",
    "    \n",
    "heavy_partpos, heavy_partmass = get_heavy_atoms(particles)"
   ]
  },
  {
   "cell_type": "markdown",
   "id": "cf0f9185",
   "metadata": {},
   "source": [
    "### This function finds the two furthest united atoms from each other and computes the vector between the two atoms that will be used as the major axis"
   ]
  },
  {
   "cell_type": "code",
   "execution_count": 10,
   "id": "02d49ff0",
   "metadata": {},
   "outputs": [],
   "source": [
    "def find_major_axis(positions_arr):\n",
    "    '''Finds the major axis for GB CG representation for use in axis-angle\n",
    "    orientation representation.\n",
    "    args:\n",
    "        positions_arr: N_particlesx3 numpy array of particle positions to map to one aniso bead.\n",
    "        elements_arr: List of length N_particles containing particle elements\n",
    "    returns:\n",
    "        major_axis: numpy array designating vector of major axis of Gay-Berne particle\n",
    "        particle_indicies: tuple of two particle indices used to calculate major axis vector\n",
    "    '''\n",
    "    major_axis = None\n",
    "    max_dist = 0\n",
    "    AB_indicies = (None, None)\n",
    "    for i, x0 in enumerate(positions_arr):\n",
    "        for j, x1 in enumerate(positions_arr[i+1:]):\n",
    "            vect = x1 - x0\n",
    "            dist = np.linalg.norm(vect)\n",
    "            if dist > max_dist:\n",
    "                max_dist = dist\n",
    "                major_axis = vect\n",
    "                # adjust j for loop stride\n",
    "                AB_indicies = (i, j+i+1)\n",
    "    return major_axis, AB_indicies"
   ]
  },
  {
   "cell_type": "markdown",
   "id": "9f26a249",
   "metadata": {},
   "source": [
    "### This function finds the center of mass of the given molecule"
   ]
  },
  {
   "cell_type": "code",
   "execution_count": 11,
   "id": "49708c80",
   "metadata": {},
   "outputs": [],
   "source": [
    "def get_com(particle_positions, particle_masses):\n",
    "    '''Calculate center of mass coordinates given a set of particle positions and masses.\n",
    "    Positions and Masses arrays must be of same dimension.\n",
    "    args:\n",
    "        particle_positions: N_particlesx3 numpy array of particle positions (x,y,z)\n",
    "        particle_masses: N_particlesx0 numpy array of particle masses\n",
    "        \n",
    "    returns:\n",
    "        center_of_mass: 3x0 numpy array of center of mass coordinates'''\n",
    "    \n",
    "    M = np.sum(particle_masses)\n",
    "    weighted_positions = particle_positions * particle_masses[:,np.newaxis]\n",
    "    center_of_mass = np.sum(weighted_positions/M, axis=0)\n",
    "    return center_of_mass"
   ]
  },
  {
   "cell_type": "markdown",
   "id": "24262f9e",
   "metadata": {},
   "source": [
    "### This function finds the furthest atom  from the Center of Mass that wasn't used to make the major axis, and creates a vector"
   ]
  },
  {
   "cell_type": "code",
   "execution_count": 12,
   "id": "27953c7f",
   "metadata": {},
   "outputs": [],
   "source": [
    "#Convert the vector along the major axis at the center of mass and convert that to quaternions\n",
    "def find_minor_axis(particle_positions, center_of_mass, AB_indicies):\n",
    "    AB = lpar\n",
    "    CoM_vector = None\n",
    "    maxdist = 0\n",
    "    for i, vect0 in enumerate(particle_positions):\n",
    "        if i in AB_indicies:\n",
    "            continue\n",
    "        quatvect = vect0 - pps_center\n",
    "        dist = np.linalg.norm(quatvect)\n",
    "        if dist > maxdist and not np.isclose(np.cross(AB, quatvect), np.zeros(3)).all():\n",
    "            maxdist = dist\n",
    "            CoM_vector = quatvect\n",
    "    return CoM_vector"
   ]
  },
  {
   "cell_type": "code",
   "execution_count": 13,
   "id": "8d0b5eeb",
   "metadata": {},
   "outputs": [],
   "source": [
    "lpar, indicies = find_major_axis(heavy_partpos)\n",
    "print(lpar)\n",
    "pps_center = get_com(heavy_partpos, heavy_partmass)\n",
    "print(pps_center)\n",
    "CoM_vector = find_minor_axis(heavy_partpos, pps_center, indicies)\n",
    "print(CoM_vector)"
   ]
  },
  {
   "cell_type": "markdown",
   "id": "2d459c02",
   "metadata": {},
   "source": [
    "### The following two cells visualizes the plane created by lpar and the Center of mass to furthest non-lpar atom"
   ]
  },
  {
   "cell_type": "code",
   "execution_count": 14,
   "id": "4e407191",
   "metadata": {},
   "outputs": [],
   "source": [
    "def vect_3d_for_plotting(point, vector):\n",
    "    \"\"\"Makes xs, ys, zs, for plotting a vector from a given point in matplotlib\"\"\"\n",
    "    vectnorm = np.linalg.norm(vector)\n",
    "    xs = [point[0], point[0]+vector[0]]\n",
    "    ys = [point[1], point[1]+vector[1]]\n",
    "    zs = [point[2], point[2]+vector[2]]\n",
    "    return xs, ys, zs"
   ]
  },
  {
   "cell_type": "code",
   "execution_count": 15,
   "id": "719c88f4",
   "metadata": {},
   "outputs": [],
   "source": [
    "vect3d = vect_3d_for_plotting(pps_center, lpar) \n",
    "X = np.linspace(-2, 5, 50)\n",
    "Y = np.linspace(-1, 1, 50)\n",
    "X, Y = np.meshgrid(X,Y)\n",
    "n0 = np.cross(lpar, CoM_vector)\n",
    "d = np.dot(pps_center, n0)\n",
    "Z = (d - n0[0]*X - n0[1]*Y) / n0[2]\n",
    "fig = plt.figure()\n",
    "ax = fig.add_subplot(projection='3d')\n",
    "ax.scatter(heavy_partpos[:,0], heavy_partpos[:,1], heavy_partpos[:,2], color = 'black')\n",
    "ax.scatter(*pps_center, marker = '*', s = 72, color = 'cyan')\n",
    "ax.plot3D(*vect_3d_for_plotting(pps_center, lpar), color = 'green')\n",
    "ax.plot3D(*vect_3d_for_plotting(pps_center, CoM_vector), color = 'blue')\n",
    "ax.plot3D(*vect_3d_for_plotting(pps_center, n0), ls = '--')\n",
    "ax.plot_surface(X,Y,Z, alpha=0.5)\n",
    "ax.view_init(roll = 0, elev =0, azim = 90)"
   ]
  },
  {
   "cell_type": "markdown",
   "id": "9ce8c168",
   "metadata": {},
   "source": [
    "## Testing on a pair of PPS monomers with different orientation"
   ]
  },
  {
   "cell_type": "code",
   "execution_count": 16,
   "id": "2a7da1db",
   "metadata": {},
   "outputs": [],
   "source": [
    "n1 = np.cross(lpar, CoM_vector)\n",
    "pps_rotated =  mb.load(\"c1ccc(S)cc1\", smiles=True)\n",
    "pps_rotated.rotate(theta = (math.pi/2), around = n1)\n",
    "pps_rotated.save(\"pps_rotated.gsd\", overwrite=True)"
   ]
  },
  {
   "cell_type": "code",
   "execution_count": 17,
   "id": "b64a844e",
   "metadata": {},
   "outputs": [],
   "source": [
    "file = gsd.hoomd.open(\"pps_rotated.gsd\", \"r\")\n",
    "frame1 = file[0]\n",
    "partpos1, partmass1 = get_heavy_atoms(frame1.particles)"
   ]
  },
  {
   "cell_type": "code",
   "execution_count": 18,
   "id": "0d7d944d",
   "metadata": {},
   "outputs": [],
   "source": [
    "pps_center1 = get_com(partpos1, partmass1)\n",
    "lpar1, indicies1 = find_major_axis(partpos1)\n",
    "CoM_vector1 = find_minor_axis(partpos1, pps_center1, indicies1)"
   ]
  },
  {
   "cell_type": "markdown",
   "id": "9137f25c",
   "metadata": {},
   "source": [
    "### When creating the monomer from mbuild, the monomer does not sit completely flat, and this cell adjust for that"
   ]
  },
  {
   "cell_type": "code",
   "execution_count": 19,
   "id": "4b28fdc3",
   "metadata": {},
   "outputs": [],
   "source": [
    "def find_axis_angle_to_quaternion(n1, n0=np.array([0, 0, 1])):\n",
    "    \"\"\"Calculates axis and angle of rotation given two planes normal vectors\"\"\"\n",
    "    V_axis = np.cross(n0, n1)\n",
    "    theta_numerator = np.dot(n0, n1)\n",
    "    theta_denominator = np.linalg.norm(n0) * np.linalg.norm(n1)\n",
    "    theta_rotation = np.arccos(theta_numerator / theta_denominator)\n",
    "    quaternion = rowan.from_axis_angle(V_axis, theta_rotation)\n",
    "    return quaternion"
   ]
  },
  {
   "cell_type": "markdown",
   "id": "c7d0337c",
   "metadata": {},
   "source": [
    "### This cell finds the axis angles between the initial molecule and a rotated molecule, then converts those axis angles into quaternions"
   ]
  },
  {
   "cell_type": "code",
   "execution_count": 20,
   "id": "8cf311cc",
   "metadata": {},
   "outputs": [],
   "source": [
    "#Taking in the axis vector and theta in order to turn the axis angle and theta orientations into zero\n",
    "quaternion0 = find_axis_angle_to_quaternion(n0)\n",
    "quaternion1 = find_axis_angle_to_quaternion(lpar)\n",
    "quaternion2 = find_axis_angle_to_quaternion(lpar1)"
   ]
  },
  {
   "cell_type": "markdown",
   "id": "191303d9",
   "metadata": {},
   "source": [
    "## Test visualizing a spinning particle"
   ]
  },
  {
   "cell_type": "code",
   "execution_count": 21,
   "id": "bc89c070",
   "metadata": {},
   "outputs": [],
   "source": [
    "def mb_get_heavy_atoms(particles):\n",
    "    \"\"\"Returns arrays of only heavy atoms, positions, and masses given in mbuild compound\"\"\"\n",
    "    particles.remove(particles.particles_by_element('H'))\n",
    "    masses = np.array([child.element.mass for child in particles])\n",
    "    positions = np.array([child.pos for child in pps_rotated])\n",
    "    return masses, positions"
   ]
  },
  {
   "cell_type": "code",
   "execution_count": 22,
   "id": "818a5d4b",
   "metadata": {},
   "outputs": [],
   "source": [
    "q1 = quaternion1\n",
    "pps_rotated =  mb.load(\"c1ccc(S)cc1\", smiles=True)\n",
    "with gsd.hoomd.open(\"test_orientations.gsd\", \"w\") as f:\n",
    "    for angle in np.arange(0, 2 * np.pi, np.pi / 32):\n",
    "        s = gsd.hoomd.Snapshot()\n",
    "        s.particles.N = 2\n",
    "        s.particles.types = ['A']\n",
    "        s.particles.typeid = [0,0]\n",
    "        s.particles.position = [[1,1,1], [1,2,1]]\n",
    "        #This is where we are changing the angle\n",
    "        masses, positions = mb_get_heavy_atoms(pps_rotated)\n",
    "        pps_rotated.rotate(theta = np.pi / 32, around = n1)\n",
    "        positions = np.array([child.pos for child in pps_rotated])\n",
    "        CoM = get_com(positions, masses)\n",
    "        lpar, indicies = find_major_axis(positions)\n",
    "        CoMvector = find_minor_axis(positions, CoM, indicies)\n",
    "        q2 = find_axis_angle_to_quaternion(lpar)\n",
    "        s.particles.orientation = [q1, q2]\n",
    "        s.configuration.box = [8, 8, 8, 0, 0, 0]\n",
    "        s.particles.mass = [2] * 2\n",
    "        f.append(s)"
   ]
  },
  {
   "cell_type": "code",
   "execution_count": 23,
   "id": "1dff169b",
   "metadata": {},
   "outputs": [],
   "source": [
    "#New State of the State address\n",
    "#We are now able to visualize the quaterions and do the quaternion math correctly\n",
    "#Next steps are\n",
    "#Encapsulate everything\n",
    "#Write code to find all monomers in a box\n",
    "#Generate the example four orientation box and use the above code on it\n",
    "#Encapsulate over entire trajectory"
   ]
  },
  {
   "cell_type": "code",
   "execution_count": null,
   "id": "c08742c2",
   "metadata": {},
   "outputs": [],
   "source": []
  }
 ],
 "metadata": {
  "kernelspec": {
   "display_name": "Python 3 (ipykernel)",
   "language": "python",
   "name": "python3"
  },
  "language_info": {
   "codemirror_mode": {
    "name": "ipython",
    "version": 3
   },
   "file_extension": ".py",
   "mimetype": "text/x-python",
   "name": "python",
   "nbconvert_exporter": "python",
   "pygments_lexer": "ipython3",
   "version": "3.8.17"
  }
 },
 "nbformat": 4,
 "nbformat_minor": 5
}

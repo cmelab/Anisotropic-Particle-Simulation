{
 "cells": [
  {
   "cell_type": "markdown",
   "id": "31fa3f10",
   "metadata": {},
   "source": [
    "## Creation of the four PPS monomers"
   ]
  },
  {
   "cell_type": "code",
   "execution_count": 35,
   "id": "81247414",
   "metadata": {},
   "outputs": [],
   "source": [
    "import mbuild as mb\n",
    "import math\n",
    "import gsd.hoomd\n",
    "import numpy as np\n",
    "import matplotlib.pyplot as plt\n",
    "\n",
    "# Creates a mBuild compound of a single PPS monomer\n",
    "pps = mb.load(\"c1ccc(S)cc1\", smiles=True)"
   ]
  },
  {
   "cell_type": "code",
   "execution_count": 2,
   "id": "4fdad29d",
   "metadata": {},
   "outputs": [],
   "source": [
    "#Removes all of they hydogens from the simulation\n",
    "pps.remove(pps.particles_by_element('H'))"
   ]
  },
  {
   "cell_type": "code",
   "execution_count": 3,
   "id": "4ccc66c6",
   "metadata": {},
   "outputs": [],
   "source": [
    "system = mb.compound.Compound()"
   ]
  },
  {
   "cell_type": "code",
   "execution_count": 4,
   "id": "7362905a",
   "metadata": {},
   "outputs": [],
   "source": [
    "#Creats a box with four monomers inside of it\n",
    "for i in range(4):\n",
    "    clone = mb.clone(pps)\n",
    "    if i %2 == 0:\n",
    "        clone.rotate(theta = i*(math.pi/2), around = [0, 0, 1])\n",
    "    else:\n",
    "        clone.rotate(theta = i*(math.pi/2), around = [0, 1, 0])\n",
    "    clone.translate([(i + 1), 1, 1])\n",
    "    system.add(clone)\n",
    "system.box = mb.Box([6, 2, 2])"
   ]
  },
  {
   "cell_type": "code",
   "execution_count": 5,
   "id": "6e7040fb",
   "metadata": {},
   "outputs": [],
   "source": [
    "#Todo:\n",
    "#Make a function that takes a gsd file and calculates vectors of orientation for gay-berne major axis given the pps\n",
    "# positions"
   ]
  },
  {
   "cell_type": "code",
   "execution_count": 6,
   "id": "395dec64",
   "metadata": {},
   "outputs": [
    {
     "name": "stderr",
     "output_type": "stream",
     "text": [
      "/Users/noah/miniconda3/envs/try2/lib/python3.10/site-packages/gsd/hoomd.py:420: FutureWarning: Snapshot is deprecated, use Frame\n",
      "  warnings.warn(\"Snapshot is deprecated, use Frame\", FutureWarning)\n",
      "/Users/noah/miniconda3/envs/try2/lib/python3.10/site-packages/gsd/hoomd.py:1125: FutureWarning: The 'wb' mode is deprecated, use 'w'\n",
      "  gsdfileobj = fl.open(name=str(name),\n"
     ]
    }
   ],
   "source": [
    "#The system of four monomers of PPS\n",
    "system.save(\"pps_box.gsd\", overwrite=True)\n",
    "#system.visualize()"
   ]
  },
  {
   "cell_type": "code",
   "execution_count": 7,
   "id": "31b8d117",
   "metadata": {},
   "outputs": [],
   "source": [
    "file = gsd.hoomd.open(\"pps_box.gsd\", \"r\")"
   ]
  },
  {
   "cell_type": "code",
   "execution_count": 8,
   "id": "7c13cea1",
   "metadata": {},
   "outputs": [],
   "source": [
    "frame = file[0]"
   ]
  },
  {
   "cell_type": "code",
   "execution_count": 9,
   "id": "520f14b9",
   "metadata": {},
   "outputs": [],
   "source": [
    "#frame.particles.position"
   ]
  },
  {
   "cell_type": "markdown",
   "id": "0e005fa0",
   "metadata": {},
   "source": [
    "## Getting the positions of the particles in one monomer"
   ]
  },
  {
   "cell_type": "code",
   "execution_count": 10,
   "id": "0035d639",
   "metadata": {},
   "outputs": [],
   "source": [
    "pps.save(\"one_pps.gsd\", overwrite=True)"
   ]
  },
  {
   "cell_type": "code",
   "execution_count": 11,
   "id": "71ea4be3",
   "metadata": {},
   "outputs": [],
   "source": [
    "file = gsd.hoomd.open(\"one_pps.gsd\", \"r\")\n",
    "#Finds the real positions of the atoms in the monomer.\n",
    "frame = file[0]\n",
    "#partpos = particle position\n",
    "partpos = frame.particles.position\n",
    "#partmass = particle mass\n",
    "partmass = frame.particles.mass"
   ]
  },
  {
   "cell_type": "code",
   "execution_count": 12,
   "id": "0cd3c033",
   "metadata": {},
   "outputs": [
    {
     "name": "stdout",
     "output_type": "stream",
     "text": [
      "[[-1.692836    0.01622056 -0.20739976]\n",
      " [-1.0209563  -1.2000172  -0.04773325]\n",
      " [ 0.35386935 -1.2118286   0.21015719]\n",
      " [ 1.0587134  -0.00560797  0.3083688 ]\n",
      " [ 2.8178067  -0.01955481  0.6384325 ]\n",
      " [ 0.38462818  1.2115655   0.14862752]\n",
      " [-0.99022084  1.2215596  -0.10921624]]\n",
      "[12.011 12.011 12.011 12.011 32.06  12.011 12.011]\n"
     ]
    }
   ],
   "source": [
    "print(partpos)\n",
    "len(partpos)\n",
    "print(partmass)"
   ]
  },
  {
   "cell_type": "code",
   "execution_count": 23,
   "id": "25e544fe",
   "metadata": {},
   "outputs": [
    {
     "name": "stdout",
     "output_type": "stream",
     "text": [
      "The maximum distance of your monomer is 4.589402\n",
      "The vector that belongs to the maximum distance is [ 4.510643   -0.03577537  0.8458322 ]\n",
      "(0, 4)\n"
     ]
    }
   ],
   "source": [
    "maxvect = None\n",
    "maxdist = 0\n",
    "greatdistindicies = None\n",
    "for i, vect0 in enumerate(partpos):\n",
    "    for j, vect1 in enumerate(partpos[i+1:]):\n",
    "        vect = vect1 - vect0\n",
    "        dist = np.linalg.norm(vect)\n",
    "        if dist > maxdist:\n",
    "            maxdist = dist\n",
    "            maxvect = vect\n",
    "            greatdistindicies = (i, j + i + 1)\n",
    "print(\"The maximum distance of your monomer is\", maxdist)\n",
    "print(\"The vector that belongs to the maximum distance is\", maxvect)"
   ]
  },
  {
   "cell_type": "code",
   "execution_count": 25,
   "id": "02d49ff0",
   "metadata": {},
   "outputs": [],
   "source": [
    "def find_major_axis(positions_arr):\n",
    "    '''Finds the major axis for GB CG representation for use in axis-angle\n",
    "    orientation representation.\n",
    "    args:\n",
    "        positions_arr: N_particlesx3 numpy array of particle positions to map to one aniso bead.\n",
    "    returns:\n",
    "        major_axis: numpy array designating vector of major axis of Gay-Berne particle\n",
    "        particle_indicies: tuple of two particle indices used to calculate major axis vector\n",
    "    '''\n",
    "    major_axis = None\n",
    "    max_dist = 0\n",
    "    AB_indicies = (None, None)\n",
    "    for i, x0 in enumerate(positions_arr):\n",
    "        for j, x1 in enumerate(positions_arr[i+1:]):\n",
    "            vect = x1 - x0\n",
    "            dist = np.linalg.norm(vect)\n",
    "            if dist > max_dist:\n",
    "                max_dist = dist\n",
    "                major_axis = vect\n",
    "                # adjust j for loop stride\n",
    "                AB_indicies = (i, j+i+1)\n",
    "    return major_axis, AB_indicies"
   ]
  },
  {
   "cell_type": "code",
   "execution_count": 28,
   "id": "6bde2f47",
   "metadata": {},
   "outputs": [
    {
     "name": "stdout",
     "output_type": "stream",
     "text": [
      "[ 4.510643   -0.03577537  0.8458322 ]\n"
     ]
    }
   ],
   "source": [
    "lpar, indicies = find_major_axis(partpos)\n",
    "print(lpar)"
   ]
  },
  {
   "cell_type": "code",
   "execution_count": 15,
   "id": "81412da4",
   "metadata": {},
   "outputs": [
    {
     "name": "stdout",
     "output_type": "stream",
     "text": [
      "[ 0.6476411  -0.00234209  0.2314996 ]\n"
     ]
    }
   ],
   "source": [
    "#Finds the center of mass of the monomer\n",
    "M = np.sum(partmass)\n",
    "posCoMnumerator = partpos * np.reshape(partmass, [np.shape(partpos)[0], 1])\n",
    "CoMcords = (np.sum(posCoMnumerator, axis = 0)) / M\n",
    "print(CoMcords)"
   ]
  },
  {
   "cell_type": "code",
   "execution_count": 18,
   "id": "49708c80",
   "metadata": {},
   "outputs": [],
   "source": [
    "def get_com(particle_positions, particle_masses):\n",
    "    '''Calculate center of mass coordinates given a set of particle positions and masses.\n",
    "    Positions and Masses arrays must be of same dimension.\n",
    "    args:\n",
    "        particle_positions: N_particlesx3 numpy array of particle positions (x,y,z)\n",
    "        particle_masses: N_particlesx0 numpy array of particle masses\n",
    "        \n",
    "    returns:\n",
    "        center_of_mass: 3x0 numpy array of center of mass coordinates'''\n",
    "    \n",
    "    M = np.sum(particle_masses)\n",
    "    weighted_positions = particle_positions * particle_masses[:,np.newaxis]\n",
    "    center_of_mass = np.sum(weighted_positions/M, axis=0)\n",
    "    return center_of_mass"
   ]
  },
  {
   "cell_type": "code",
   "execution_count": 31,
   "id": "8c181267",
   "metadata": {},
   "outputs": [],
   "source": [
    "pps_center = get_com(partpos, partmass)"
   ]
  },
  {
   "cell_type": "code",
   "execution_count": 32,
   "id": "27953c7f",
   "metadata": {},
   "outputs": [],
   "source": [
    "#Convert the vector along the major axis at the center of mass and convert that to quaternions\n",
    "def find_minor_axis(particle_positions, center_of_mass):\n",
    "    AB = maxvect\n",
    "    CoM_vector = None\n",
    "    maxdist = 0\n",
    "    for i, vect0 in enumerate(partpos):\n",
    "        if i in greatdistindicies:\n",
    "            continue\n",
    "        quatvect = vect0 - CoMcords\n",
    "        dist = np.linalg.norm(quatvect)\n",
    "        if dist > maxdist and not np.isclose(np.cross(AB, quatvect), np.zeros(3)).all():\n",
    "            maxdist = dist\n",
    "            CoM_vector = quatvect\n",
    "    return CoM_vector"
   ]
  },
  {
   "cell_type": "code",
   "execution_count": 33,
   "id": "f21fe5e2",
   "metadata": {},
   "outputs": [
    {
     "data": {
      "text/plain": [
       "array([-1.637862  ,  1.2239017 , -0.34071583], dtype=float32)"
      ]
     },
     "execution_count": 33,
     "metadata": {},
     "output_type": "execute_result"
    }
   ],
   "source": [
    "find_minor_axis(partpos, pps_center)"
   ]
  },
  {
   "cell_type": "code",
   "execution_count": 170,
   "id": "4e407191",
   "metadata": {},
   "outputs": [],
   "source": [
    "def vect_3d_for_plotting(point, vector):\n",
    "    \"\"\"Makes xs, ys, zs, for plotting a vector from a given point in matplotlib\"\"\"\n",
    "    vectnorm = np.linalg.norm(vector)\n",
    "    xs = [point[0], point[0]+vector[0]]\n",
    "    ys = [point[1], point[1]+vector[1]]\n",
    "    zs = [point[2], point[2]+vector[2]]\n",
    "    return xs, ys, zs"
   ]
  },
  {
   "cell_type": "code",
   "execution_count": 171,
   "id": "d896f025",
   "metadata": {},
   "outputs": [
    {
     "data": {
      "text/plain": [
       "([0.6476411, 5.158284], [-0.0023420916, -0.03811746], [0.2314996, 1.0773318])"
      ]
     },
     "execution_count": 171,
     "metadata": {},
     "output_type": "execute_result"
    }
   ],
   "source": [
    "vect_3d_for_plotting(CoMcords, lpar)"
   ]
  },
  {
   "cell_type": "code",
   "execution_count": 172,
   "id": "d74077b5",
   "metadata": {},
   "outputs": [],
   "source": [
    "CoM_vector = find_minor_axis(partpos, pps_center)"
   ]
  },
  {
   "cell_type": "code",
   "execution_count": 173,
   "id": "a1cbb97a",
   "metadata": {},
   "outputs": [],
   "source": [
    "X = np.linspace(-2, 5, 50)\n",
    "Y = np.linspace(-1, 1, 50)\n",
    "X, Y = np.meshgrid(X,Y)\n",
    "#d = CoMcords[2] * n0[2]\n",
    "d = np.dot(CoMcords, n0)\n",
    "Z = (d - n0[0]*X - n0[1]*Y) / n0[2]"
   ]
  },
  {
   "cell_type": "code",
   "execution_count": 174,
   "id": "6074b39c",
   "metadata": {},
   "outputs": [
    {
     "data": {
      "image/png": "[encoded data removed]",
      "text/plain": [
       "<Figure size 640x480 with 1 Axes>"
      ]
     },
     "metadata": {},
     "output_type": "display_data"
    }
   ],
   "source": [
    "fig = plt.figure()\n",
    "ax = fig.add_subplot(projection='3d')\n",
    "ax.scatter(partpos[:,0], partpos[:,1], partpos[:,2], color = 'black')\n",
    "ax.scatter(*CoMcords, marker = '*', s = 72, color = 'cyan')\n",
    "ax.plot3D(*vect_3d_for_plotting(CoMcords, lpar), color = 'green')\n",
    "ax.plot3D(*vect_3d_for_plotting(CoMcords, CoM_vector), color = 'blue')\n",
    "ax.plot3D(*vect_3d_for_plotting(CoMcords, n0), ls = '--')\n",
    "ax.plot_surface(X,Y,Z, cmap = matplotlib.cm.Reds)\n",
    "ax.view_init(roll = 0, elev =0, azim = 90)"
   ]
  },
  {
   "cell_type": "code",
   "execution_count": 41,
   "id": "2110dc53",
   "metadata": {},
   "outputs": [
    {
     "name": "stdout",
     "output_type": "stream",
     "text": [
      "Help on method view_init in module mpl_toolkits.mplot3d.axes3d:\n",
      "\n",
      "view_init(elev=None, azim=None, roll=None, vertical_axis='z') method of mpl_toolkits.mplot3d.axes3d.Axes3D instance\n",
      "    Set the elevation and azimuth of the axes in degrees (not radians).\n",
      "    \n",
      "    This can be used to rotate the axes programmatically.\n",
      "    \n",
      "    To look normal to the primary planes, the following elevation and\n",
      "    azimuth angles can be used. A roll angle of 0, 90, 180, or 270 deg\n",
      "    will rotate these views while keeping the axes at right angles.\n",
      "    \n",
      "    ==========   ====  ====\n",
      "    view plane   elev  azim\n",
      "    ==========   ====  ====\n",
      "    XY           90    -90\n",
      "    XZ           0     -90\n",
      "    YZ           0     0\n",
      "    -XY          -90   90\n",
      "    -XZ          0     90\n",
      "    -YZ          0     180\n",
      "    ==========   ====  ====\n",
      "    \n",
      "    Parameters\n",
      "    ----------\n",
      "    elev : float, default: None\n",
      "        The elevation angle in degrees rotates the camera above the plane\n",
      "        pierced by the vertical axis, with a positive angle corresponding\n",
      "        to a location above that plane. For example, with the default\n",
      "        vertical axis of 'z', the elevation defines the angle of the camera\n",
      "        location above the x-y plane.\n",
      "        If None, then the initial value as specified in the `Axes3D`\n",
      "        constructor is used.\n",
      "    azim : float, default: None\n",
      "        The azimuthal angle in degrees rotates the camera about the\n",
      "        vertical axis, with a positive angle corresponding to a\n",
      "        right-handed rotation. For example, with the default vertical axis\n",
      "        of 'z', a positive azimuth rotates the camera about the origin from\n",
      "        its location along the +x axis towards the +y axis.\n",
      "        If None, then the initial value as specified in the `Axes3D`\n",
      "        constructor is used.\n",
      "    roll : float, default: None\n",
      "        The roll angle in degrees rotates the camera about the viewing\n",
      "        axis. A positive angle spins the camera clockwise, causing the\n",
      "        scene to rotate counter-clockwise.\n",
      "        If None, then the initial value as specified in the `Axes3D`\n",
      "        constructor is used.\n",
      "    vertical_axis : {\"z\", \"x\", \"y\"}, default: \"z\"\n",
      "        The axis to align vertically. *azim* rotates about this axis.\n",
      "\n"
     ]
    }
   ],
   "source": [
    "help(ax.view_init)"
   ]
  },
  {
   "cell_type": "code",
   "execution_count": null,
   "id": "4698a191",
   "metadata": {},
   "outputs": [],
   "source": [
    "#I believe in order to do the math in the seperate cell we need to load in a new monomer, that way new values\n",
    "# can be grabbed to get the rotation coordinates, which then can be turned into quaternions"
   ]
  },
  {
   "cell_type": "code",
   "execution_count": 167,
   "id": "7b809acf",
   "metadata": {},
   "outputs": [
    {
     "ename": "NameError",
     "evalue": "name 'lpar1' is not defined",
     "output_type": "error",
     "traceback": [
      "\u001b[0;31m---------------------------------------------------------------------------\u001b[0m",
      "\u001b[0;31mNameError\u001b[0m                                 Traceback (most recent call last)",
      "Cell \u001b[0;32mIn[167], line 8\u001b[0m\n\u001b[1;32m      1\u001b[0m \u001b[38;5;66;03m#Need to define our plane and make an angle of rotation\u001b[39;00m\n\u001b[1;32m      2\u001b[0m \u001b[38;5;66;03m#AB and CoMC are defined in the cell above, they serve as the orignal orientation\u001b[39;00m\n\u001b[1;32m      3\u001b[0m \n\u001b[1;32m      4\u001b[0m \u001b[38;5;66;03m#Finds the information from the differently oriented monomer and produces the axis vector\u001b[39;00m\n\u001b[1;32m      5\u001b[0m \u001b[38;5;66;03m#lpar1 = find_major_axis(positions_arr)\u001b[39;00m\n\u001b[1;32m      6\u001b[0m \u001b[38;5;66;03m#ACoM1 = #What ever the name for the function above will be an it's arguments\u001b[39;00m\n\u001b[1;32m      7\u001b[0m n0 \u001b[38;5;241m=\u001b[39m np\u001b[38;5;241m.\u001b[39mcross(lpar, CoM_vector)\n\u001b[0;32m----> 8\u001b[0m n1 \u001b[38;5;241m=\u001b[39m np\u001b[38;5;241m.\u001b[39mcross(\u001b[43mlpar1\u001b[49m, ACoM1)\n\u001b[1;32m      9\u001b[0m V_axis \u001b[38;5;241m=\u001b[39m np\u001b[38;5;241m.\u001b[39mcross(n0, n1)\n\u001b[1;32m     11\u001b[0m \u001b[38;5;66;03m#Solving for the theta\u001b[39;00m\n",
      "\u001b[0;31mNameError\u001b[0m: name 'lpar1' is not defined"
     ]
    }
   ],
   "source": [
    "#Need to define our plane and make an angle of rotation\n",
    "#AB and CoMC are defined in the cell above, they serve as the orignal orientation\n",
    "\n",
    "#Finds the information from the differently oriented monomer and produces the axis vector\n",
    "#lpar1 = find_major_axis(positions_arr)\n",
    "#ACoM1 = #What ever the name for the function above will be an it's arguments\n",
    "n0 = np.cross(lpar, CoM_vector)\n",
    "n1 = np.cross(lpar1, ACoM1)\n",
    "V_axis = np.cross(n0, n1)\n",
    "\n",
    "#Solving for the theta\n",
    "theta_numerator = np.dot(n0, n1)\n",
    "theta_denominator = np.linalg.norm(n0) * np.linalg.norm(n1)\n",
    "theta_rotation = np.arccos(theta_numerator / theta_denominator)\n",
    "\n",
    "#Taking in the axis vector and theta in order to turn the axis angle and theta orientations into zero\n",
    "quaternions = rowan.from_axis_angle(V_axis, theta_rotation)"
   ]
  },
  {
   "cell_type": "code",
   "execution_count": null,
   "id": "9e3cff41",
   "metadata": {},
   "outputs": [],
   "source": [
    "#distanceList = []\n",
    "#vectorList = []\n",
    "#vectorcompDist = []\n",
    "#for i in range(len(partpos)):\n",
    "#    x0 = partpos[i][0]\n",
    "#    y0 = partpos[i][1]\n",
    "#    z0 = partpos[i][2]\n",
    "    #print(x0, y0, z0) \n",
    "#    for j in range(len(partpos)):\n",
    "#        xd = x0 - partpos[j][0]\n",
    "#        yd = y0 - partpos[j][1]\n",
    "#        zd = z0 - partpos[j][2]\n",
    "#        vectorList.append([xd, yd, zd])\n",
    "#        dist = np.sqrt((xd**2)+(yd**2)+(zd**2))\n",
    "#        distanceList.append(dist)\n",
    "#        vectorcompDist.append([partpos[i], partpos[j], dist])\n",
    "#maxdist = max(distanceList)\n",
    "#print(\"The maximum distance of your monomer is\", maxdist)\n",
    "#maxvect = max(vectorList)\n",
    "#print(\"The vector that belongs to the maximum distance is\", maxvect)\n",
    "#normvect = maxvect / np.linalg.norm(maxvect)\n",
    "#print(\"The unit vector along the major axis is :\", normvect)\n",
    "\n",
    "#whichelementVmax = vectorList.index(maxvect)\n",
    "#whichelementDmax = distanceList.index(maxdist)\n",
    "\n",
    "#for k in range(len(vectorcompDist)):\n",
    "#    if vectorcompDist[k][2] == maxdist:\n",
    "#        print(\"Our component vectors and distance are as follows:\", vectorcompDist[k])"
   ]
  },
  {
   "cell_type": "code",
   "execution_count": null,
   "id": "74475e36",
   "metadata": {},
   "outputs": [],
   "source": [
    "#Finds the center of mass of the monomer\n",
    "#xi_mi_positions = []\n",
    "#yi_mi_positions = []\n",
    "#zi_mi_positions = []\n",
    "#for i in range(len(partpos)):\n",
    "#    xi_mi = partpos[i][0] * partmass[i]\n",
    "#    yi_mi = partpos[i][1] * partmass[i]\n",
    "#    zi_mi = partpos[i][2] * partmass[i]\n",
    "#    xi_mi_positions.append(xi_mi)\n",
    "#    yi_mi_positions.append(yi_mi)\n",
    "#    zi_mi_positions.append(zi_mi)\n",
    "#M = np.sum(partmass)\n",
    "#x_CoM = (np.sum(xi_mi_positions)) / M\n",
    "#y_CoM = (np.sum(yi_mi_positions)) / M\n",
    "#z_CoM = (np.sum(zi_mi_positions)) / M\n",
    "#CoMcords = np.array([x_CoM, y_CoM, z_CoM])\n",
    "#print(\"The center of Mass of your monomer is\",CoMcords)"
   ]
  }
 ],
 "metadata": {
  "kernelspec": {
   "display_name": "Python 3 (ipykernel)",
   "language": "python",
   "name": "python3"
  },
  "language_info": {
   "codemirror_mode": {
    "name": "ipython",
    "version": 3
   },
   "file_extension": ".py",
   "mimetype": "text/x-python",
   "name": "python",
   "nbconvert_exporter": "python",
   "pygments_lexer": "ipython3",
   "version": "3.10.11"
  }
 },
 "nbformat": 4,
 "nbformat_minor": 5
}

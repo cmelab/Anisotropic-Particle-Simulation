{
 "cells": [
  {
   "cell_type": "markdown",
   "id": "31fa3f10",
   "metadata": {},
   "source": [
    "## Creation of the four PPS monomers"
   ]
  },
  {
   "cell_type": "code",
   "execution_count": 1,
   "id": "81247414",
   "metadata": {},
   "outputs": [],
   "source": [
    "import mbuild as mb\n",
    "import math\n",
    "import gsd.hoomd\n",
    "import numpy as np\n",
    "import matplotlib.pyplot as plt\n",
    "import rowan\n",
    "\n",
    "# Creates a mBuild compound of a single PPS monomer\n",
    "pps = mb.load(\"c1ccc(S)cc1\", smiles=True)"
   ]
  },
  {
   "cell_type": "code",
   "execution_count": 2,
   "id": "4fdad29d",
   "metadata": {},
   "outputs": [],
   "source": [
    "#Removes all of they hydogens from the simulation\n",
    "pps.remove(pps.particles_by_element('H'))"
   ]
  },
  {
   "cell_type": "code",
   "execution_count": 3,
   "id": "4ccc66c6",
   "metadata": {},
   "outputs": [],
   "source": [
    "system = mb.compound.Compound()"
   ]
  },
  {
   "cell_type": "code",
   "execution_count": 4,
   "id": "7362905a",
   "metadata": {},
   "outputs": [],
   "source": [
    "#Creats a box with four monomers inside of it\n",
    "for i in range(4):\n",
    "    clone = mb.clone(pps)\n",
    "    if i %2 == 0:\n",
    "        clone.rotate(theta = i*(math.pi/2), around = [0, 0, 1])\n",
    "    else:\n",
    "        clone.rotate(theta = i*(math.pi/2), around = [0, 1, 0])\n",
    "    clone.translate([(i + 1), 1, 1])\n",
    "    system.add(clone)\n",
    "system.box = mb.Box([6, 2, 2])"
   ]
  },
  {
   "cell_type": "code",
   "execution_count": 5,
   "id": "6e7040fb",
   "metadata": {},
   "outputs": [],
   "source": [
    "#Todo:\n",
    "#Make a function that takes a gsd file and calculates vectors of orientation for gay-berne major axis given the pps\n",
    "# positions"
   ]
  },
  {
   "cell_type": "code",
   "execution_count": 6,
   "id": "395dec64",
   "metadata": {},
   "outputs": [
    {
     "name": "stderr",
     "output_type": "stream",
     "text": [
      "/Users/noah/miniconda3/envs/try2/lib/python3.10/site-packages/gsd/hoomd.py:420: FutureWarning: Snapshot is deprecated, use Frame\n",
      "  warnings.warn(\"Snapshot is deprecated, use Frame\", FutureWarning)\n",
      "/Users/noah/miniconda3/envs/try2/lib/python3.10/site-packages/gsd/hoomd.py:1125: FutureWarning: The 'wb' mode is deprecated, use 'w'\n",
      "  gsdfileobj = fl.open(name=str(name),\n"
     ]
    }
   ],
   "source": [
    "#The system of four monomers of PPS\n",
    "system.save(\"pps_box.gsd\", overwrite=True)\n",
    "#system.visualize()"
   ]
  },
  {
   "cell_type": "code",
   "execution_count": 7,
   "id": "31b8d117",
   "metadata": {},
   "outputs": [],
   "source": [
    "file = gsd.hoomd.open(\"pps_box.gsd\", \"r\")"
   ]
  },
  {
   "cell_type": "code",
   "execution_count": 8,
   "id": "7c13cea1",
   "metadata": {},
   "outputs": [],
   "source": [
    "frame = file[0]"
   ]
  },
  {
   "cell_type": "code",
   "execution_count": 9,
   "id": "520f14b9",
   "metadata": {},
   "outputs": [],
   "source": [
    "#frame.particles.position"
   ]
  },
  {
   "cell_type": "markdown",
   "id": "0e005fa0",
   "metadata": {},
   "source": [
    "## Getting the positions of the particles in one monomer"
   ]
  },
  {
   "cell_type": "code",
   "execution_count": 10,
   "id": "0035d639",
   "metadata": {},
   "outputs": [],
   "source": [
    "pps.save(\"one_pps.gsd\", overwrite=True)"
   ]
  },
  {
   "cell_type": "code",
   "execution_count": 11,
   "id": "71ea4be3",
   "metadata": {},
   "outputs": [],
   "source": [
    "file = gsd.hoomd.open(\"one_pps.gsd\", \"r\")\n",
    "#Finds the real positions of the atoms in the monomer.\n",
    "frame = file[0]\n",
    "#partpos = particle position\n",
    "partpos = frame.particles.position\n",
    "#partmass = particle mass\n",
    "partmass = frame.particles.mass"
   ]
  },
  {
   "cell_type": "code",
   "execution_count": 12,
   "id": "0cd3c033",
   "metadata": {},
   "outputs": [
    {
     "name": "stdout",
     "output_type": "stream",
     "text": [
      "[[-1.692836    0.01622056 -0.20739976]\n",
      " [-1.0209563  -1.2000172  -0.04773325]\n",
      " [ 0.35386935 -1.2118286   0.21015719]\n",
      " [ 1.0587134  -0.00560797  0.3083688 ]\n",
      " [ 2.8178067  -0.01955481  0.6384325 ]\n",
      " [ 0.38462818  1.2115655   0.14862752]\n",
      " [-0.99022084  1.2215596  -0.10921624]]\n",
      "[12.011 12.011 12.011 12.011 32.06  12.011 12.011]\n"
     ]
    }
   ],
   "source": [
    "print(partpos)\n",
    "len(partpos)\n",
    "print(partmass)"
   ]
  },
  {
   "cell_type": "code",
   "execution_count": 13,
   "id": "25e544fe",
   "metadata": {},
   "outputs": [
    {
     "name": "stdout",
     "output_type": "stream",
     "text": [
      "The maximum distance of your monomer is 4.589402\n",
      "The vector that belongs to the maximum distance is [ 4.510643   -0.03577537  0.8458322 ]\n"
     ]
    }
   ],
   "source": [
    "maxvect = None\n",
    "maxdist = 0\n",
    "greatdistindicies = None\n",
    "for i, vect0 in enumerate(partpos):\n",
    "    for j, vect1 in enumerate(partpos[i+1:]):\n",
    "        vect = vect1 - vect0\n",
    "        dist = np.linalg.norm(vect)\n",
    "        if dist > maxdist:\n",
    "            maxdist = dist\n",
    "            maxvect = vect\n",
    "            greatdistindicies = (i, j + i + 1)\n",
    "print(\"The maximum distance of your monomer is\", maxdist)\n",
    "print(\"The vector that belongs to the maximum distance is\", maxvect)"
   ]
  },
  {
   "cell_type": "code",
   "execution_count": 14,
   "id": "02d49ff0",
   "metadata": {},
   "outputs": [],
   "source": [
    "def find_major_axis(positions_arr):\n",
    "    '''Finds the major axis for GB CG representation for use in axis-angle\n",
    "    orientation representation.\n",
    "    args:\n",
    "        positions_arr: N_particlesx3 numpy array of particle positions to map to one aniso bead.\n",
    "    returns:\n",
    "        major_axis: numpy array designating vector of major axis of Gay-Berne particle\n",
    "        particle_indicies: tuple of two particle indices used to calculate major axis vector\n",
    "    '''\n",
    "    major_axis = None\n",
    "    max_dist = 0\n",
    "    AB_indicies = (None, None)\n",
    "    for i, x0 in enumerate(positions_arr):\n",
    "        for j, x1 in enumerate(positions_arr[i+1:]):\n",
    "            vect = x1 - x0\n",
    "            dist = np.linalg.norm(vect)\n",
    "            if dist > max_dist:\n",
    "                max_dist = dist\n",
    "                major_axis = vect\n",
    "                # adjust j for loop stride\n",
    "                AB_indicies = (i, j+i+1)\n",
    "    return major_axis, AB_indicies"
   ]
  },
  {
   "cell_type": "code",
   "execution_count": 15,
   "id": "81412da4",
   "metadata": {},
   "outputs": [
    {
     "name": "stdout",
     "output_type": "stream",
     "text": [
      "[ 0.6476411  -0.00234209  0.2314996 ]\n"
     ]
    }
   ],
   "source": [
    "#Finds the center of mass of the monomer\n",
    "M = np.sum(partmass)\n",
    "posCoMnumerator = partpos * np.reshape(partmass, [np.shape(partpos)[0], 1])\n",
    "CoMcords = (np.sum(posCoMnumerator, axis = 0)) / M\n",
    "print(CoMcords)"
   ]
  },
  {
   "cell_type": "code",
   "execution_count": 16,
   "id": "49708c80",
   "metadata": {},
   "outputs": [],
   "source": [
    "def get_com(particle_positions, particle_masses):\n",
    "    '''Calculate center of mass coordinates given a set of particle positions and masses.\n",
    "    Positions and Masses arrays must be of same dimension.\n",
    "    args:\n",
    "        particle_positions: N_particlesx3 numpy array of particle positions (x,y,z)\n",
    "        particle_masses: N_particlesx0 numpy array of particle masses\n",
    "        \n",
    "    returns:\n",
    "        center_of_mass: 3x0 numpy array of center of mass coordinates'''\n",
    "    \n",
    "    M = np.sum(particle_masses)\n",
    "    weighted_positions = particle_positions * particle_masses[:,np.newaxis]\n",
    "    center_of_mass = np.sum(weighted_positions/M, axis=0)\n",
    "    return center_of_mass"
   ]
  },
  {
   "cell_type": "code",
   "execution_count": 17,
   "id": "8c181267",
   "metadata": {},
   "outputs": [],
   "source": [
    "pps_center = get_com(partpos, partmass)"
   ]
  },
  {
   "cell_type": "code",
   "execution_count": 18,
   "id": "27953c7f",
   "metadata": {},
   "outputs": [],
   "source": [
    "#Convert the vector along the major axis at the center of mass and convert that to quaternions\n",
    "def find_minor_axis(particle_positions, center_of_mass):\n",
    "    AB = maxvect\n",
    "    CoM_vector = None\n",
    "    maxdist = 0\n",
    "    for i, vect0 in enumerate(partpos):\n",
    "        if i in greatdistindicies:\n",
    "            continue\n",
    "        quatvect = vect0 - CoMcords\n",
    "        dist = np.linalg.norm(quatvect)\n",
    "        if dist > maxdist and not np.isclose(np.cross(AB, quatvect), np.zeros(3)).all():\n",
    "            maxdist = dist\n",
    "            CoM_vector = quatvect\n",
    "    return CoM_vector"
   ]
  },
  {
   "cell_type": "code",
   "execution_count": 19,
   "id": "4e407191",
   "metadata": {},
   "outputs": [],
   "source": [
    "def vect_3d_for_plotting(point, vector):\n",
    "    \"\"\"Makes xs, ys, zs, for plotting a vector from a given point in matplotlib\"\"\"\n",
    "    vectnorm = np.linalg.norm(vector)\n",
    "    xs = [point[0], point[0]+vector[0]]\n",
    "    ys = [point[1], point[1]+vector[1]]\n",
    "    zs = [point[2], point[2]+vector[2]]\n",
    "    return xs, ys, zs"
   ]
  },
  {
   "cell_type": "code",
   "execution_count": 20,
   "id": "a7a33a47",
   "metadata": {},
   "outputs": [
    {
     "name": "stdout",
     "output_type": "stream",
     "text": [
      "[ 4.510643   -0.03577537  0.8458322 ]\n",
      "[-1.637862    1.2239017  -0.34071583]\n",
      "([0.6476411, 5.158284], [-0.0023420916, -0.03811746], [0.2314996, 1.0773318])\n"
     ]
    }
   ],
   "source": [
    "lpar, indicies = find_major_axis(partpos)\n",
    "print(lpar)\n",
    "CoM_vector = find_minor_axis(partpos, pps_center)\n",
    "print(CoM_vector)\n",
    "vect3d = vect_3d_for_plotting(CoMcords, lpar)\n",
    "print(vect3d)"
   ]
  },
  {
   "cell_type": "code",
   "execution_count": 21,
   "id": "772b9171",
   "metadata": {},
   "outputs": [],
   "source": [
    "#Todo: Add some subsection headings describing what this plot shows, how do we know that this plot is working,\n",
    "#What quality are we showing by plotting this values, what's it for"
   ]
  },
  {
   "cell_type": "code",
   "execution_count": 22,
   "id": "ff7ac895",
   "metadata": {},
   "outputs": [
    {
     "data": {
      "image/png": "[encoded data removed]",
      "text/plain": [
       "<Figure size 640x480 with 1 Axes>"
      ]
     },
     "metadata": {},
     "output_type": "display_data"
    }
   ],
   "source": [
    "X = np.linspace(-2, 5, 50)\n",
    "Y = np.linspace(-1, 1, 50)\n",
    "X, Y = np.meshgrid(X,Y)\n",
    "n0 = np.cross(lpar, CoM_vector)\n",
    "d = np.dot(CoMcords, n0)\n",
    "Z = (d - n0[0]*X - n0[1]*Y) / n0[2]\n",
    "fig = plt.figure()\n",
    "ax = fig.add_subplot(projection='3d')\n",
    "ax.scatter(partpos[:,0], partpos[:,1], partpos[:,2], color = 'black')\n",
    "ax.scatter(*CoMcords, marker = '*', s = 72, color = 'cyan')\n",
    "ax.plot3D(*vect_3d_for_plotting(CoMcords, lpar), color = 'green')\n",
    "ax.plot3D(*vect_3d_for_plotting(CoMcords, CoM_vector), color = 'blue')\n",
    "ax.plot3D(*vect_3d_for_plotting(CoMcords, n0), ls = '--')\n",
    "ax.plot_surface(X,Y,Z) #cmap = matplotlib.cm.Reds)\n",
    "ax.view_init(roll = 0, elev =0, azim = 90)"
   ]
  },
  {
   "cell_type": "markdown",
   "id": "b4c2ec39",
   "metadata": {},
   "source": [
    "## Testing on a pair of PPS monomers with different orientation"
   ]
  },
  {
   "cell_type": "code",
   "execution_count": 97,
   "id": "17b6ae52",
   "metadata": {},
   "outputs": [
    {
     "data": {
      "application/3dmoljs_load.v0": "<div id=\"3dmolviewer_1687558755818014\"  style=\"position: relative; width: 640px; height: 480px\">\n        <p id=\"3dmolwarning_1687558755818014\" style=\"background-color:#ffcccc;color:black\">You appear to be running in JupyterLab (or JavaScript failed to load for some other reason).  You need to install the 3dmol extension: <br>\n        <tt>jupyter labextension install jupyterlab_3dmol</tt></p>\n        </div>\n<script>\n\nvar loadScriptAsync = function(uri){\n  return new Promise((resolve, reject) => {\n    //this is to ignore the existence of requirejs amd\n    var savedexports, savedmodule;\n    if (typeof exports !== 'undefined') savedexports = exports;\n    else exports = {}\n    if (typeof module !== 'undefined') savedmodule = module;\n    else module = {}\n\n    var tag = document.createElement('script');\n    tag.src = uri;\n    tag.async = true;\n    tag.onload = () => {\n        exports = savedexports;\n        module = savedmodule;\n        resolve();\n    };\n  var firstScriptTag = document.getElementsByTagName('script')[0];\n  firstScriptTag.parentNode.insertBefore(tag, firstScriptTag);\n});\n};\n\nif(typeof $3Dmolpromise === 'undefined') {\n$3Dmolpromise = null;\n  $3Dmolpromise = loadScriptAsync('https://cdnjs.cloudflare.com/ajax/libs/3Dmol/2.0.1/3Dmol-min.js');\n}\n\nvar viewer_1687558755818014 = null;\nvar warn = document.getElementById(\"3dmolwarning_1687558755818014\");\nif(warn) {\n    warn.parentNode.removeChild(warn);\n}\n$3Dmolpromise.then(function() {\nviewer_1687558755818014 = $3Dmol.createViewer(document.getElementById(\"3dmolviewer_1687558755818014\"),{backgroundColor:\"white\"});\nviewer_1687558755818014.zoomTo();\n\tviewer_1687558755818014.addModel(\"@<TRIPOS>MOLECULE\\nRES\\n7 7 1 0 1\\nSMALL\\nNO_CHARGES\\n@<TRIPOS>CRYSIN\\n    9.5106     7.4334     5.8458    90.0000    90.0000    90.0000 1 1\\n@<TRIPOS>ATOM\\n       1 C           -1.6928     0.0162    -0.2074 C             1 RES     \\n       2 C           -1.0210    -1.2000    -0.0477 C             1 RES     \\n       3 C            0.3539    -1.2118     0.2102 C             1 RES     \\n       4 C            1.0587    -0.0056     0.3084 C             1 RES     \\n       5 S            2.8178    -0.0196     0.6384 S             1 RES     \\n       6 C            0.3846     1.2116     0.1486 C             1 RES     \\n       7 C           -0.9902     1.2216    -0.1092 C             1 RES     \\n@<TRIPOS>BOND\\n       1        1        2 1\\n       2        3        2 1\\n       3        7        1 1\\n       4        6        7 1\\n       5        4        3 1\\n       6        5        4 1\\n       7        6        4 1\\n@<TRIPOS>SUBSTRUCTURE\\n       1 RES             1 RESIDUE    0 **** ROOT      0\\n\",\"mol2\");\n\tviewer_1687558755818014.setStyle({\"stick\": {\"radius\": 0.2, \"color\": \"grey\"}, \"sphere\": {\"scale\": 0.3, \"colorscheme\": {}}});\n\tviewer_1687558755818014.zoomTo();\nviewer_1687558755818014.render();\n});\n</script>",
      "text/html": [
       "<div id=\"3dmolviewer_1687558755818014\"  style=\"position: relative; width: 640px; height: 480px\">\n",
       "        <p id=\"3dmolwarning_1687558755818014\" style=\"background-color:#ffcccc;color:black\">You appear to be running in JupyterLab (or JavaScript failed to load for some other reason).  You need to install the 3dmol extension: <br>\n",
       "        <tt>jupyter labextension install jupyterlab_3dmol</tt></p>\n",
       "        </div>\n",
       "<script>\n",
       "\n",
       "var loadScriptAsync = function(uri){\n",
       "  return new Promise((resolve, reject) => {\n",
       "    //this is to ignore the existence of requirejs amd\n",
       "    var savedexports, savedmodule;\n",
       "    if (typeof exports !== 'undefined') savedexports = exports;\n",
       "    else exports = {}\n",
       "    if (typeof module !== 'undefined') savedmodule = module;\n",
       "    else module = {}\n",
       "\n",
       "    var tag = document.createElement('script');\n",
       "    tag.src = uri;\n",
       "    tag.async = true;\n",
       "    tag.onload = () => {\n",
       "        exports = savedexports;\n",
       "        module = savedmodule;\n",
       "        resolve();\n",
       "    };\n",
       "  var firstScriptTag = document.getElementsByTagName('script')[0];\n",
       "  firstScriptTag.parentNode.insertBefore(tag, firstScriptTag);\n",
       "});\n",
       "};\n",
       "\n",
       "if(typeof $3Dmolpromise === 'undefined') {\n",
       "$3Dmolpromise = null;\n",
       "  $3Dmolpromise = loadScriptAsync('https://cdnjs.cloudflare.com/ajax/libs/3Dmol/2.0.1/3Dmol-min.js');\n",
       "}\n",
       "\n",
       "var viewer_1687558755818014 = null;\n",
       "var warn = document.getElementById(\"3dmolwarning_1687558755818014\");\n",
       "if(warn) {\n",
       "    warn.parentNode.removeChild(warn);\n",
       "}\n",
       "$3Dmolpromise.then(function() {\n",
       "viewer_1687558755818014 = $3Dmol.createViewer(document.getElementById(\"3dmolviewer_1687558755818014\"),{backgroundColor:\"white\"});\n",
       "viewer_1687558755818014.zoomTo();\n",
       "\tviewer_1687558755818014.addModel(\"@<TRIPOS>MOLECULE\\nRES\\n7 7 1 0 1\\nSMALL\\nNO_CHARGES\\n@<TRIPOS>CRYSIN\\n    9.5106     7.4334     5.8458    90.0000    90.0000    90.0000 1 1\\n@<TRIPOS>ATOM\\n       1 C           -1.6928     0.0162    -0.2074 C             1 RES     \\n       2 C           -1.0210    -1.2000    -0.0477 C             1 RES     \\n       3 C            0.3539    -1.2118     0.2102 C             1 RES     \\n       4 C            1.0587    -0.0056     0.3084 C             1 RES     \\n       5 S            2.8178    -0.0196     0.6384 S             1 RES     \\n       6 C            0.3846     1.2116     0.1486 C             1 RES     \\n       7 C           -0.9902     1.2216    -0.1092 C             1 RES     \\n@<TRIPOS>BOND\\n       1        1        2 1\\n       2        3        2 1\\n       3        7        1 1\\n       4        6        7 1\\n       5        4        3 1\\n       6        5        4 1\\n       7        6        4 1\\n@<TRIPOS>SUBSTRUCTURE\\n       1 RES             1 RESIDUE    0 **** ROOT      0\\n\",\"mol2\");\n",
       "\tviewer_1687558755818014.setStyle({\"stick\": {\"radius\": 0.2, \"color\": \"grey\"}, \"sphere\": {\"scale\": 0.3, \"colorscheme\": {}}});\n",
       "\tviewer_1687558755818014.zoomTo();\n",
       "viewer_1687558755818014.render();\n",
       "});\n",
       "</script>"
      ]
     },
     "metadata": {},
     "output_type": "display_data"
    },
    {
     "data": {
      "text/plain": [
       "<py3Dmol.view at 0x7f8e86816fb0>"
      ]
     },
     "execution_count": 97,
     "metadata": {},
     "output_type": "execute_result"
    }
   ],
   "source": [
    "pps_rotated =  mb.load(\"c1ccc(S)cc1\", smiles=True)\n",
    "pps_rotated.rotate(theta = (math.pi/2), around = n1)\n",
    "pps_rotated.remove(pps_rotated.particles_by_element('H'))\n",
    "pps.visualize()\n",
    "#pps_rotated.visualize()"
   ]
  },
  {
   "cell_type": "code",
   "execution_count": 98,
   "id": "bed728b0",
   "metadata": {},
   "outputs": [],
   "source": [
    "pps_rotated.save(\"pps_rotated.gsd\", overwrite=True)"
   ]
  },
  {
   "cell_type": "code",
   "execution_count": 99,
   "id": "8566cd69",
   "metadata": {},
   "outputs": [],
   "source": [
    "file = gsd.hoomd.open(\"pps_rotated.gsd\", \"r\")\n",
    "#Finds the real positions of the atoms in the monomer.\n",
    "frame1 = file[0]\n",
    "#partpos = particle position\n",
    "partpos1 = frame1.particles.position\n",
    "#partmass = particle mass\n",
    "partmass1 = frame1.particles.mass"
   ]
  },
  {
   "cell_type": "code",
   "execution_count": 100,
   "id": "9f3831ad",
   "metadata": {},
   "outputs": [
    {
     "name": "stdout",
     "output_type": "stream",
     "text": [
      "[ 0.05820087  4.587558   -0.11633722]\n",
      "[-1.637862    1.2239017  -0.34071583]\n",
      "([-0.011303812, 0.04689706], [0.68188685, 5.2694445], [0.089102246, -0.027234979])\n"
     ]
    }
   ],
   "source": [
    "#Eventually clean up, because CoMcords and pps_center are the same thing\n",
    "pps_center1 = get_com(partpos1, partmass1)\n",
    "lpar1, indicies1 = find_major_axis(partpos1)\n",
    "print(lpar1)\n",
    "CoM_vector1 = find_minor_axis(partpos1, pps_center1)\n",
    "print(CoM_vector1)\n",
    "vect3d1 = vect_3d_for_plotting(pps_center1, lpar1)\n",
    "print(vect3d1)"
   ]
  },
  {
   "cell_type": "code",
   "execution_count": 103,
   "id": "43ffd639",
   "metadata": {},
   "outputs": [
    {
     "name": "stdout",
     "output_type": "stream",
     "text": [
      "[1. 0. 0. 0.] [ 0.99562614 -0.01368554 -0.09241908  0.        ] [ 0.99562616 -0.01368551 -0.09241896  0.        ]\n"
     ]
    }
   ],
   "source": [
    "#Need to define our plane and make an angle of rotation\n",
    "#AB and CoMC are defined in the cell above, they serve as the orignal orientation\n",
    "\n",
    "#Finds the information from the differently oriented monomer and produces the axis vector\n",
    "n0 = np.array([0, 0, 1])\n",
    "n1 = np.cross(lpar, CoM_vector)\n",
    "n2 = np.cross(lpar1, CoM_vector1)\n",
    "V_axis1, theta1 = get_axis_angle(n1)\n",
    "V_axis2, theta2 = get_axis_angle(n2)\n",
    "\n",
    "#Taking in the axis vector and theta in order to turn the axis angle and theta orientations into zero\n",
    "quaternion0 = rowan.from_axis_angle(n0, 0)\n",
    "quaternion1 = rowan.from_axis_angle(V_axis1, theta1)\n",
    "quaternion2 = rowan.from_axis_angle(V_axis2, theta2)\n",
    "print(quaternion0, quaternion1, quaternion2)"
   ]
  },
  {
   "cell_type": "code",
   "execution_count": 104,
   "id": "aa26ec99",
   "metadata": {},
   "outputs": [],
   "source": [
    "def get_axis_angle(n1, n0=np.array([0, 0, 1])):\n",
    "    \"\"\"Calculates axis and angle of rotation given two planes normal vectors\"\"\"\n",
    "    V_axis = np.cross(n0, n1)\n",
    "    theta_numerator = np.dot(n0, n1)\n",
    "    theta_denominator = np.linalg.norm(n0) * np.linalg.norm(n1)\n",
    "    theta_rotation = np.arccos(theta_numerator / theta_denominator)\n",
    "    return V_axis, theta_rotation"
   ]
  },
  {
   "cell_type": "code",
   "execution_count": 105,
   "id": "0186da6f",
   "metadata": {},
   "outputs": [],
   "source": [
    "s = gsd.hoomd.Snapshot()\n",
    "s.particles.N = 2\n",
    "s.particles.types = ['A']\n",
    "s.particles.typeid = [0,0]\n",
    "s.particles.position = [[1,1,1], [2,1,2]]\n",
    "s.particles.orientation = [quaternion1, quaternion2]\n",
    "s.configuration.box = [8, 8, 8, 0, 0, 0]\n",
    "s.particles.mass = [2] * 2"
   ]
  },
  {
   "cell_type": "code",
   "execution_count": 106,
   "id": "5ca8b49e",
   "metadata": {},
   "outputs": [],
   "source": [
    "with gsd.hoomd.open(\"test_orientations.gsd\", \"w\") as f:\n",
    "    f.append(s)"
   ]
  },
  {
   "cell_type": "code",
   "execution_count": null,
   "id": "9c7a7b2e",
   "metadata": {},
   "outputs": [],
   "source": [
    "#State of the state address:\n",
    "#Orientations coming out identical even though we are rotating plane normal vector in mbuild\n",
    "#And OVITO is not open anymore apparently :( we need to add all atom and coarse grain visualizations\n",
    "#into a single HOOMD gsd file first\n",
    "#And hopefully that will show what is going on\n",
    "#It's the quaternions that are coming out the same, not OVITO screwing it up, it's probably something to do with\n",
    "#mbuild and how it stores information or rotations"
   ]
  }
 ],
 "metadata": {
  "kernelspec": {
   "display_name": "Python 3 (ipykernel)",
   "language": "python",
   "name": "python3"
  },
  "language_info": {
   "codemirror_mode": {
    "name": "ipython",
    "version": 3
   },
   "file_extension": ".py",
   "mimetype": "text/x-python",
   "name": "python",
   "nbconvert_exporter": "python",
   "pygments_lexer": "ipython3",
   "version": "3.10.11"
  }
 },
 "nbformat": 4,
 "nbformat_minor": 5
}

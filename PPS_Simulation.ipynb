{
 "cells": [
  {
   "cell_type": "markdown",
   "id": "31fa3f10",
   "metadata": {},
   "source": [
    "## Creation of the four PPS monomers"
   ]
  },
  {
   "cell_type": "code",
   "execution_count": 1,
   "id": "81247414",
   "metadata": {},
   "outputs": [],
   "source": [
    "import mbuild as mb\n",
    "import math\n",
    "import gsd.hoomd\n",
    "import numpy as np\n",
    "\n",
    "# Creates a mBuild compound of a single PPS monomer\n",
    "pps = mb.load(\"c1ccc(S)cc1\", smiles=True)"
   ]
  },
  {
   "cell_type": "code",
   "execution_count": 2,
   "id": "4fdad29d",
   "metadata": {},
   "outputs": [],
   "source": [
    "#Removes all of they hydogens from the simulation\n",
    "pps.remove(pps.particles_by_element('H'))"
   ]
  },
  {
   "cell_type": "code",
   "execution_count": 3,
   "id": "4ccc66c6",
   "metadata": {},
   "outputs": [],
   "source": [
    "system = mb.compound.Compound()"
   ]
  },
  {
   "cell_type": "code",
   "execution_count": 4,
   "id": "7362905a",
   "metadata": {},
   "outputs": [],
   "source": [
    "#Creats a box with four monomers inside of it\n",
    "for i in range(4):\n",
    "    clone = mb.clone(pps)\n",
    "    if i %2 == 0:\n",
    "        clone.rotate(theta = i*(math.pi/2), around = [0, 0, 1])\n",
    "    else:\n",
    "        clone.rotate(theta = i*(math.pi/2), around = [0, 1, 0])\n",
    "    clone.translate([(i + 1), 1, 1])\n",
    "    system.add(clone)\n",
    "system.box = mb.Box([6, 2, 2])"
   ]
  },
  {
   "cell_type": "code",
   "execution_count": 5,
   "id": "6e7040fb",
   "metadata": {},
   "outputs": [],
   "source": [
    "#Todo:\n",
    "#Make a function that takes a gsd file and calculates vectors of orientation for gay-berne major axis given the pps\n",
    "# positions"
   ]
  },
  {
   "cell_type": "code",
   "execution_count": 6,
   "id": "395dec64",
   "metadata": {},
   "outputs": [
    {
     "name": "stderr",
     "output_type": "stream",
     "text": [
      "/Users/noah/miniconda3/envs/try2/lib/python3.10/site-packages/gsd/hoomd.py:420: FutureWarning: Snapshot is deprecated, use Frame\n",
      "  warnings.warn(\"Snapshot is deprecated, use Frame\", FutureWarning)\n",
      "/Users/noah/miniconda3/envs/try2/lib/python3.10/site-packages/gsd/hoomd.py:1125: FutureWarning: The 'wb' mode is deprecated, use 'w'\n",
      "  gsdfileobj = fl.open(name=str(name),\n"
     ]
    },
    {
     "data": {
      "application/3dmoljs_load.v0": "<div id=\"3dmolviewer_16873692359081259\"  style=\"position: relative; width: 640px; height: 480px\">\n        <p id=\"3dmolwarning_16873692359081259\" style=\"background-color:#ffcccc;color:black\">You appear to be running in JupyterLab (or JavaScript failed to load for some other reason).  You need to install the 3dmol extension: <br>\n        <tt>jupyter labextension install jupyterlab_3dmol</tt></p>\n        </div>\n<script>\n\nvar loadScriptAsync = function(uri){\n  return new Promise((resolve, reject) => {\n    //this is to ignore the existence of requirejs amd\n    var savedexports, savedmodule;\n    if (typeof exports !== 'undefined') savedexports = exports;\n    else exports = {}\n    if (typeof module !== 'undefined') savedmodule = module;\n    else module = {}\n\n    var tag = document.createElement('script');\n    tag.src = uri;\n    tag.async = true;\n    tag.onload = () => {\n        exports = savedexports;\n        module = savedmodule;\n        resolve();\n    };\n  var firstScriptTag = document.getElementsByTagName('script')[0];\n  firstScriptTag.parentNode.insertBefore(tag, firstScriptTag);\n});\n};\n\nif(typeof $3Dmolpromise === 'undefined') {\n$3Dmolpromise = null;\n  $3Dmolpromise = loadScriptAsync('https://cdnjs.cloudflare.com/ajax/libs/3Dmol/2.0.1/3Dmol-min.js');\n}\n\nvar viewer_16873692359081259 = null;\nvar warn = document.getElementById(\"3dmolwarning_16873692359081259\");\nif(warn) {\n    warn.parentNode.removeChild(warn);\n}\n$3Dmolpromise.then(function() {\nviewer_16873692359081259 = $3Dmol.createViewer(document.getElementById(\"3dmolviewer_16873692359081259\"),{backgroundColor:\"white\"});\nviewer_16873692359081259.zoomTo();\n\tviewer_16873692359081259.addModel(\"@<TRIPOS>MOLECULE\\nRES\\n28 28 1 0 1\\nSMALL\\nNO_CHARGES\\n@<TRIPOS>CRYSIN\\n   60.0000    20.0000    20.0000    90.0000    90.0000    90.0000 1 1\\n@<TRIPOS>ATOM\\n       1 C            8.3072    10.0162     9.7926 C             1 RES     \\n       2 C            8.9790     8.8000     9.9523 C             1 RES     \\n       3 C           10.3539     8.7882    10.2102 C             1 RES     \\n       4 C           11.0587     9.9944    10.3084 C             1 RES     \\n       5 S           12.8178     9.9804    10.6384 S             1 RES     \\n       6 C           10.3846    11.2116    10.1486 C             1 RES     \\n       7 C            9.0098    11.2216     9.8908 C             1 RES     \\n       8 C           19.7926    10.0162    11.6928 C             1 RES     \\n       9 C           19.9523     8.8000    11.0210 C             1 RES     \\n      10 C           20.2102     8.7882     9.6461 C             1 RES     \\n      11 C           20.3084     9.9944     8.9413 C             1 RES     \\n      12 S           20.6384     9.9804     7.1822 S             1 RES     \\n      13 C           20.1486    11.2116     9.6154 C             1 RES     \\n      14 C           19.8908    11.2216    10.9902 C             1 RES     \\n      15 C           31.6928     9.9838     9.7926 C             1 RES     \\n      16 C           31.0210    11.2000     9.9523 C             1 RES     \\n      17 C           29.6461    11.2118    10.2102 C             1 RES     \\n      18 C           28.9413    10.0056    10.3084 C             1 RES     \\n      19 S           27.1822    10.0196    10.6384 S             1 RES     \\n      20 C           29.6154     8.7884    10.1486 C             1 RES     \\n      21 C           30.9902     8.7784     9.8908 C             1 RES     \\n      22 C           40.2074    10.0162     8.3072 C             1 RES     \\n      23 C           40.0477     8.8000     8.9790 C             1 RES     \\n      24 C           39.7898     8.7882    10.3539 C             1 RES     \\n      25 C           39.6916     9.9944    11.0587 C             1 RES     \\n      26 S           39.3616     9.9804    12.8178 S             1 RES     \\n      27 C           39.8514    11.2116    10.3846 C             1 RES     \\n      28 C           40.1092    11.2216     9.0098 C             1 RES     \\n@<TRIPOS>BOND\\n       1        2        1 1\\n       2        7        1 1\\n       3        3        2 1\\n       4        4        3 1\\n       5        6        7 1\\n       6        4        6 1\\n       7        5        4 1\\n       8        9        8 1\\n       9       14        8 1\\n      10       10        9 1\\n      11       11       10 1\\n      12       13       14 1\\n      13       11       13 1\\n      14       12       11 1\\n      15       16       15 1\\n      16       21       15 1\\n      17       17       16 1\\n      18       18       17 1\\n      19       20       21 1\\n      20       18       20 1\\n      21       19       18 1\\n      22       23       22 1\\n      23       28       22 1\\n      24       24       23 1\\n      25       25       24 1\\n      26       27       28 1\\n      27       25       27 1\\n      28       26       25 1\\n@<TRIPOS>SUBSTRUCTURE\\n       1 RES             1 RESIDUE    0 **** ROOT      0\\n\",\"mol2\");\n\tviewer_16873692359081259.setStyle({\"stick\": {\"radius\": 0.2, \"color\": \"grey\"}, \"sphere\": {\"scale\": 0.3, \"colorscheme\": {}}});\n\tviewer_16873692359081259.zoomTo();\nviewer_16873692359081259.render();\n});\n</script>",
      "text/html": [
       "<div id=\"3dmolviewer_16873692359081259\"  style=\"position: relative; width: 640px; height: 480px\">\n",
       "        <p id=\"3dmolwarning_16873692359081259\" style=\"background-color:#ffcccc;color:black\">You appear to be running in JupyterLab (or JavaScript failed to load for some other reason).  You need to install the 3dmol extension: <br>\n",
       "        <tt>jupyter labextension install jupyterlab_3dmol</tt></p>\n",
       "        </div>\n",
       "<script>\n",
       "\n",
       "var loadScriptAsync = function(uri){\n",
       "  return new Promise((resolve, reject) => {\n",
       "    //this is to ignore the existence of requirejs amd\n",
       "    var savedexports, savedmodule;\n",
       "    if (typeof exports !== 'undefined') savedexports = exports;\n",
       "    else exports = {}\n",
       "    if (typeof module !== 'undefined') savedmodule = module;\n",
       "    else module = {}\n",
       "\n",
       "    var tag = document.createElement('script');\n",
       "    tag.src = uri;\n",
       "    tag.async = true;\n",
       "    tag.onload = () => {\n",
       "        exports = savedexports;\n",
       "        module = savedmodule;\n",
       "        resolve();\n",
       "    };\n",
       "  var firstScriptTag = document.getElementsByTagName('script')[0];\n",
       "  firstScriptTag.parentNode.insertBefore(tag, firstScriptTag);\n",
       "});\n",
       "};\n",
       "\n",
       "if(typeof $3Dmolpromise === 'undefined') {\n",
       "$3Dmolpromise = null;\n",
       "  $3Dmolpromise = loadScriptAsync('https://cdnjs.cloudflare.com/ajax/libs/3Dmol/2.0.1/3Dmol-min.js');\n",
       "}\n",
       "\n",
       "var viewer_16873692359081259 = null;\n",
       "var warn = document.getElementById(\"3dmolwarning_16873692359081259\");\n",
       "if(warn) {\n",
       "    warn.parentNode.removeChild(warn);\n",
       "}\n",
       "$3Dmolpromise.then(function() {\n",
       "viewer_16873692359081259 = $3Dmol.createViewer(document.getElementById(\"3dmolviewer_16873692359081259\"),{backgroundColor:\"white\"});\n",
       "viewer_16873692359081259.zoomTo();\n",
       "\tviewer_16873692359081259.addModel(\"@<TRIPOS>MOLECULE\\nRES\\n28 28 1 0 1\\nSMALL\\nNO_CHARGES\\n@<TRIPOS>CRYSIN\\n   60.0000    20.0000    20.0000    90.0000    90.0000    90.0000 1 1\\n@<TRIPOS>ATOM\\n       1 C            8.3072    10.0162     9.7926 C             1 RES     \\n       2 C            8.9790     8.8000     9.9523 C             1 RES     \\n       3 C           10.3539     8.7882    10.2102 C             1 RES     \\n       4 C           11.0587     9.9944    10.3084 C             1 RES     \\n       5 S           12.8178     9.9804    10.6384 S             1 RES     \\n       6 C           10.3846    11.2116    10.1486 C             1 RES     \\n       7 C            9.0098    11.2216     9.8908 C             1 RES     \\n       8 C           19.7926    10.0162    11.6928 C             1 RES     \\n       9 C           19.9523     8.8000    11.0210 C             1 RES     \\n      10 C           20.2102     8.7882     9.6461 C             1 RES     \\n      11 C           20.3084     9.9944     8.9413 C             1 RES     \\n      12 S           20.6384     9.9804     7.1822 S             1 RES     \\n      13 C           20.1486    11.2116     9.6154 C             1 RES     \\n      14 C           19.8908    11.2216    10.9902 C             1 RES     \\n      15 C           31.6928     9.9838     9.7926 C             1 RES     \\n      16 C           31.0210    11.2000     9.9523 C             1 RES     \\n      17 C           29.6461    11.2118    10.2102 C             1 RES     \\n      18 C           28.9413    10.0056    10.3084 C             1 RES     \\n      19 S           27.1822    10.0196    10.6384 S             1 RES     \\n      20 C           29.6154     8.7884    10.1486 C             1 RES     \\n      21 C           30.9902     8.7784     9.8908 C             1 RES     \\n      22 C           40.2074    10.0162     8.3072 C             1 RES     \\n      23 C           40.0477     8.8000     8.9790 C             1 RES     \\n      24 C           39.7898     8.7882    10.3539 C             1 RES     \\n      25 C           39.6916     9.9944    11.0587 C             1 RES     \\n      26 S           39.3616     9.9804    12.8178 S             1 RES     \\n      27 C           39.8514    11.2116    10.3846 C             1 RES     \\n      28 C           40.1092    11.2216     9.0098 C             1 RES     \\n@<TRIPOS>BOND\\n       1        2        1 1\\n       2        7        1 1\\n       3        3        2 1\\n       4        4        3 1\\n       5        6        7 1\\n       6        4        6 1\\n       7        5        4 1\\n       8        9        8 1\\n       9       14        8 1\\n      10       10        9 1\\n      11       11       10 1\\n      12       13       14 1\\n      13       11       13 1\\n      14       12       11 1\\n      15       16       15 1\\n      16       21       15 1\\n      17       17       16 1\\n      18       18       17 1\\n      19       20       21 1\\n      20       18       20 1\\n      21       19       18 1\\n      22       23       22 1\\n      23       28       22 1\\n      24       24       23 1\\n      25       25       24 1\\n      26       27       28 1\\n      27       25       27 1\\n      28       26       25 1\\n@<TRIPOS>SUBSTRUCTURE\\n       1 RES             1 RESIDUE    0 **** ROOT      0\\n\",\"mol2\");\n",
       "\tviewer_16873692359081259.setStyle({\"stick\": {\"radius\": 0.2, \"color\": \"grey\"}, \"sphere\": {\"scale\": 0.3, \"colorscheme\": {}}});\n",
       "\tviewer_16873692359081259.zoomTo();\n",
       "viewer_16873692359081259.render();\n",
       "});\n",
       "</script>"
      ]
     },
     "metadata": {},
     "output_type": "display_data"
    },
    {
     "data": {
      "text/plain": [
       "<py3Dmol.view at 0x7fa174274670>"
      ]
     },
     "execution_count": 6,
     "metadata": {},
     "output_type": "execute_result"
    }
   ],
   "source": [
    "#The system of four monomers of PPS\n",
    "system.save(\"pps_box.gsd\", overwrite=True)\n",
    "system.visualize()"
   ]
  },
  {
   "cell_type": "code",
   "execution_count": 7,
   "id": "31b8d117",
   "metadata": {},
   "outputs": [],
   "source": [
    "file = gsd.hoomd.open(\"pps_box.gsd\", \"r\")"
   ]
  },
  {
   "cell_type": "code",
   "execution_count": 8,
   "id": "7c13cea1",
   "metadata": {},
   "outputs": [],
   "source": [
    "frame = file[0]"
   ]
  },
  {
   "cell_type": "code",
   "execution_count": 9,
   "id": "520f14b9",
   "metadata": {},
   "outputs": [
    {
     "data": {
      "text/plain": [
       "array([[-2.1692837e+01,  1.6220557e-02, -2.0739976e-01],\n",
       "       [-2.1020956e+01, -1.2000172e+00, -4.7733255e-02],\n",
       "       [-1.9646132e+01, -1.2118286e+00,  2.1015719e-01],\n",
       "       [-1.8941286e+01, -5.6079682e-03,  3.0836880e-01],\n",
       "       [-1.7182194e+01, -1.9554812e-02,  6.3843250e-01],\n",
       "       [-1.9615372e+01,  1.2115655e+00,  1.4862752e-01],\n",
       "       [-2.0990221e+01,  1.2215596e+00, -1.0921624e-01],\n",
       "       [-1.0207399e+01,  1.6220557e-02,  1.6928360e+00],\n",
       "       [-1.0047733e+01, -1.2000172e+00,  1.0209563e+00],\n",
       "       [-9.7898426e+00, -1.2118286e+00, -3.5386935e-01],\n",
       "       [-9.6916313e+00, -5.6079682e-03, -1.0587134e+00],\n",
       "       [-9.3615675e+00, -1.9554812e-02, -2.8178067e+00],\n",
       "       [-9.8513727e+00,  1.2115655e+00, -3.8462818e-01],\n",
       "       [-1.0109217e+01,  1.2215596e+00,  9.9022084e-01],\n",
       "       [ 1.6928360e+00, -1.6220557e-02, -2.0739976e-01],\n",
       "       [ 1.0209563e+00,  1.2000172e+00, -4.7733255e-02],\n",
       "       [-3.5386935e-01,  1.2118286e+00,  2.1015719e-01],\n",
       "       [-1.0587134e+00,  5.6079682e-03,  3.0836880e-01],\n",
       "       [-2.8178067e+00,  1.9554812e-02,  6.3843250e-01],\n",
       "       [-3.8462818e-01, -1.2115655e+00,  1.4862752e-01],\n",
       "       [ 9.9022084e-01, -1.2215596e+00, -1.0921624e-01],\n",
       "       [ 1.0207399e+01,  1.6220557e-02, -1.6928360e+00],\n",
       "       [ 1.0047733e+01, -1.2000172e+00, -1.0209563e+00],\n",
       "       [ 9.7898426e+00, -1.2118286e+00,  3.5386935e-01],\n",
       "       [ 9.6916313e+00, -5.6079682e-03,  1.0587134e+00],\n",
       "       [ 9.3615675e+00, -1.9554812e-02,  2.8178067e+00],\n",
       "       [ 9.8513727e+00,  1.2115655e+00,  3.8462818e-01],\n",
       "       [ 1.0109217e+01,  1.2215596e+00, -9.9022084e-01]], dtype=float32)"
      ]
     },
     "execution_count": 9,
     "metadata": {},
     "output_type": "execute_result"
    }
   ],
   "source": [
    "frame.particles.position"
   ]
  },
  {
   "cell_type": "markdown",
   "id": "0e005fa0",
   "metadata": {},
   "source": [
    "## Getting the positions of the particles in one monomer"
   ]
  },
  {
   "cell_type": "code",
   "execution_count": 10,
   "id": "0035d639",
   "metadata": {},
   "outputs": [],
   "source": [
    "pps.save(\"one_pps.gsd\", overwrite=True)"
   ]
  },
  {
   "cell_type": "code",
   "execution_count": 11,
   "id": "71ea4be3",
   "metadata": {},
   "outputs": [],
   "source": [
    "file = gsd.hoomd.open(\"one_pps.gsd\", \"r\")\n",
    "#Finds the real positions of the atoms in the monomer.\n",
    "frame = file[0]\n",
    "#partpos = particle position\n",
    "partpos = frame.particles.position\n",
    "#partmass = particle mass\n",
    "partmass = frame.particles.mass"
   ]
  },
  {
   "cell_type": "code",
   "execution_count": 12,
   "id": "0cd3c033",
   "metadata": {},
   "outputs": [
    {
     "name": "stdout",
     "output_type": "stream",
     "text": [
      "[[-1.692836    0.01622056 -0.20739976]\n",
      " [-1.0209563  -1.2000172  -0.04773325]\n",
      " [ 0.35386935 -1.2118286   0.21015719]\n",
      " [ 1.0587134  -0.00560797  0.3083688 ]\n",
      " [ 2.8178067  -0.01955481  0.6384325 ]\n",
      " [ 0.38462818  1.2115655   0.14862752]\n",
      " [-0.99022084  1.2215596  -0.10921624]]\n",
      "[12.011 12.011 12.011 12.011 32.06  12.011 12.011]\n"
     ]
    }
   ],
   "source": [
    "print(partpos)\n",
    "len(partpos)\n",
    "print(partmass)"
   ]
  },
  {
   "cell_type": "code",
   "execution_count": 13,
   "id": "def1e165",
   "metadata": {},
   "outputs": [],
   "source": [
    "#Find the Greatest Distance between all the pairs of positions, then convert that difference between the positions\n",
    "# as the vector function"
   ]
  },
  {
   "cell_type": "code",
   "execution_count": 31,
   "id": "25e544fe",
   "metadata": {},
   "outputs": [
    {
     "name": "stdout",
     "output_type": "stream",
     "text": [
      "The maximum distance of your monomer is 4.589402\n",
      "The vector that belongs to the maximum distance is [-4.510643    0.03577537 -0.8458322 ]\n"
     ]
    }
   ],
   "source": [
    "maxvect = None\n",
    "maxdist = 0\n",
    "for i, vect0 in enumerate(partpos):\n",
    "    for vect1 in partpos[i+1:]:\n",
    "        vect = vect0 - vect1\n",
    "        dist = np.linalg.norm(vect)\n",
    "        if dist > maxdist:\n",
    "            maxdist = dist\n",
    "            maxvect = vect\n",
    "print(\"The maximum distance of your monomer is\", maxdist)\n",
    "print(\"The vector that belongs to the maximum distance is\", maxvect)"
   ]
  },
  {
   "cell_type": "code",
   "execution_count": 33,
   "id": "81412da4",
   "metadata": {},
   "outputs": [
    {
     "name": "stdout",
     "output_type": "stream",
     "text": [
      "[ 0.6476411  -0.00234209  0.2314996 ]\n"
     ]
    }
   ],
   "source": [
    "#Finds the center of mass of the monomer\n",
    "M = np.sum(partmass)\n",
    "posCoMnumerator = partpos * np.reshape(partmass, [np.shape(partpos)[0], 1])\n",
    "CoMcords = (np.sum(posCoMnumerator, axis = 0)) / M\n",
    "print(CoMcords)"
   ]
  },
  {
   "cell_type": "code",
   "execution_count": 19,
   "id": "27953c7f",
   "metadata": {},
   "outputs": [],
   "source": [
    "#Convert the vector along the major axis at the center of mass and convert that to quaternions\n"
   ]
  },
  {
   "cell_type": "code",
   "execution_count": 20,
   "id": "eec02418",
   "metadata": {},
   "outputs": [],
   "source": [
    "#Come back later and put this in a for loop for all of the frames"
   ]
  },
  {
   "cell_type": "code",
   "execution_count": null,
   "id": "9e3cff41",
   "metadata": {},
   "outputs": [],
   "source": [
    "#distanceList = []\n",
    "#vectorList = []\n",
    "#vectorcompDist = []\n",
    "#for i in range(len(partpos)):\n",
    "#    x0 = partpos[i][0]\n",
    "#    y0 = partpos[i][1]\n",
    "#    z0 = partpos[i][2]\n",
    "    #print(x0, y0, z0) \n",
    "#    for j in range(len(partpos)):\n",
    "#        xd = x0 - partpos[j][0]\n",
    "#        yd = y0 - partpos[j][1]\n",
    "#        zd = z0 - partpos[j][2]\n",
    "#        vectorList.append([xd, yd, zd])\n",
    "#        dist = np.sqrt((xd**2)+(yd**2)+(zd**2))\n",
    "#        distanceList.append(dist)\n",
    "#        vectorcompDist.append([partpos[i], partpos[j], dist])\n",
    "#maxdist = max(distanceList)\n",
    "#print(\"The maximum distance of your monomer is\", maxdist)\n",
    "#maxvect = max(vectorList)\n",
    "#print(\"The vector that belongs to the maximum distance is\", maxvect)\n",
    "#normvect = maxvect / np.linalg.norm(maxvect)\n",
    "#print(\"The unit vector along the major axis is :\", normvect)\n",
    "\n",
    "#whichelementVmax = vectorList.index(maxvect)\n",
    "#whichelementDmax = distanceList.index(maxdist)\n",
    "\n",
    "#for k in range(len(vectorcompDist)):\n",
    "#    if vectorcompDist[k][2] == maxdist:\n",
    "#        print(\"Our component vectors and distance are as follows:\", vectorcompDist[k])"
   ]
  },
  {
   "cell_type": "code",
   "execution_count": null,
   "id": "74475e36",
   "metadata": {},
   "outputs": [],
   "source": [
    "#Finds the center of mass of the monomer\n",
    "#xi_mi_positions = []\n",
    "#yi_mi_positions = []\n",
    "#zi_mi_positions = []\n",
    "#for i in range(len(partpos)):\n",
    "#    xi_mi = partpos[i][0] * partmass[i]\n",
    "#    yi_mi = partpos[i][1] * partmass[i]\n",
    "#    zi_mi = partpos[i][2] * partmass[i]\n",
    "#    xi_mi_positions.append(xi_mi)\n",
    "#    yi_mi_positions.append(yi_mi)\n",
    "#    zi_mi_positions.append(zi_mi)\n",
    "#M = np.sum(partmass)\n",
    "#x_CoM = (np.sum(xi_mi_positions)) / M\n",
    "#y_CoM = (np.sum(yi_mi_positions)) / M\n",
    "#z_CoM = (np.sum(zi_mi_positions)) / M\n",
    "#CoMcords = np.array([x_CoM, y_CoM, z_CoM])\n",
    "#print(\"The center of Mass of your monomer is\",CoMcords)"
   ]
  }
 ],
 "metadata": {
  "kernelspec": {
   "display_name": "Python 3 (ipykernel)",
   "language": "python",
   "name": "python3"
  },
  "language_info": {
   "codemirror_mode": {
    "name": "ipython",
    "version": 3
   },
   "file_extension": ".py",
   "mimetype": "text/x-python",
   "name": "python",
   "nbconvert_exporter": "python",
   "pygments_lexer": "ipython3",
   "version": "3.10.11"
  }
 },
 "nbformat": 4,
 "nbformat_minor": 5
}
